{
  "nbformat": 4,
  "nbformat_minor": 0,
  "metadata": {
    "colab": {
      "provenance": []
    },
    "kernelspec": {
      "name": "python3",
      "display_name": "Python 3"
    },
    "language_info": {
      "name": "python"
    }
  },
  "cells": [
    {
      "cell_type": "code",
      "execution_count": 1,
      "metadata": {
        "colab": {
          "base_uri": "https://localhost:8080/"
        },
        "id": "3WhKrJnBx5A6",
        "outputId": "e30b63c7-9830-4339-a6c0-f9017c122e37"
      },
      "outputs": [
        {
          "output_type": "stream",
          "name": "stdout",
          "text": [
            "Welcome to ExcelR!\n"
          ]
        }
      ],
      "source": [
        "print(\"Welcome to ExcelR!\")"
      ]
    },
    {
      "cell_type": "code",
      "source": [
        "\"Hello\""
      ],
      "metadata": {
        "colab": {
          "base_uri": "https://localhost:8080/",
          "height": 36
        },
        "id": "XbfbgPsbx9md",
        "outputId": "e19f6c80-b594-404c-de6d-d09fc559161e"
      },
      "execution_count": 2,
      "outputs": [
        {
          "output_type": "execute_result",
          "data": {
            "text/plain": [
              "'Hello'"
            ],
            "application/vnd.google.colaboratory.intrinsic+json": {
              "type": "string"
            }
          },
          "metadata": {},
          "execution_count": 2
        }
      ]
    },
    {
      "cell_type": "code",
      "source": [
        "120/12*2-4"
      ],
      "metadata": {
        "colab": {
          "base_uri": "https://localhost:8080/"
        },
        "id": "unf_A_5SyAHL",
        "outputId": "3cfde462-a8db-495a-c5f3-422d6d03f20f"
      },
      "execution_count": 3,
      "outputs": [
        {
          "output_type": "execute_result",
          "data": {
            "text/plain": [
              "16.0"
            ]
          },
          "metadata": {},
          "execution_count": 3
        }
      ]
    },
    {
      "cell_type": "code",
      "source": [
        "(5-2)*10"
      ],
      "metadata": {
        "colab": {
          "base_uri": "https://localhost:8080/"
        },
        "id": "dQjVUfBGyFcN",
        "outputId": "37161dad-3967-490b-e1fb-06d10c265726"
      },
      "execution_count": 4,
      "outputs": [
        {
          "output_type": "execute_result",
          "data": {
            "text/plain": [
              "30"
            ]
          },
          "metadata": {},
          "execution_count": 4
        }
      ]
    },
    {
      "cell_type": "code",
      "source": [
        "marks=50\n",
        "marks"
      ],
      "metadata": {
        "colab": {
          "base_uri": "https://localhost:8080/"
        },
        "id": "m1GXMKqmyH-A",
        "outputId": "addd25f6-9574-4636-b7c7-9c0599229502"
      },
      "execution_count": 5,
      "outputs": [
        {
          "output_type": "execute_result",
          "data": {
            "text/plain": [
              "50"
            ]
          },
          "metadata": {},
          "execution_count": 5
        }
      ]
    },
    {
      "cell_type": "code",
      "source": [
        "type(marks)"
      ],
      "metadata": {
        "colab": {
          "base_uri": "https://localhost:8080/"
        },
        "id": "6CMxPPlAyOk5",
        "outputId": "b2b9643c-3555-4238-c01e-d88be24e004a"
      },
      "execution_count": 6,
      "outputs": [
        {
          "output_type": "execute_result",
          "data": {
            "text/plain": [
              "int"
            ]
          },
          "metadata": {},
          "execution_count": 6
        }
      ]
    },
    {
      "cell_type": "code",
      "source": [
        "5**4"
      ],
      "metadata": {
        "colab": {
          "base_uri": "https://localhost:8080/"
        },
        "id": "4LQOElKt0O1P",
        "outputId": "6372ff8f-3c1d-4f6f-ac91-3833ed0ae22b"
      },
      "execution_count": 7,
      "outputs": [
        {
          "output_type": "execute_result",
          "data": {
            "text/plain": [
              "625"
            ]
          },
          "metadata": {},
          "execution_count": 7
        }
      ]
    },
    {
      "cell_type": "code",
      "source": [
        "price=50.5\n",
        "price # only shows output of last line\n",
        "type(price)\n",
        "     "
      ],
      "metadata": {
        "colab": {
          "base_uri": "https://localhost:8080/"
        },
        "id": "qKYLFuf40TG-",
        "outputId": "69282a81-8b25-442e-a3f8-a845d3a77177"
      },
      "execution_count": 8,
      "outputs": [
        {
          "output_type": "execute_result",
          "data": {
            "text/plain": [
              "float"
            ]
          },
          "metadata": {},
          "execution_count": 8
        }
      ]
    },
    {
      "cell_type": "code",
      "source": [
        "name=\"Snehal\"\n",
        "type(name)\n",
        "     "
      ],
      "metadata": {
        "colab": {
          "base_uri": "https://localhost:8080/"
        },
        "id": "nqHnSIwW0XTd",
        "outputId": "dc044edb-d081-4d49-bc41-d084aa3b34a3"
      },
      "execution_count": 9,
      "outputs": [
        {
          "output_type": "execute_result",
          "data": {
            "text/plain": [
              "str"
            ]
          },
          "metadata": {},
          "execution_count": 9
        }
      ]
    },
    {
      "cell_type": "code",
      "source": [
        "dir(str) # all methods that can be applied on strings\n",
        "# __ dunder/magic methods (double underscore methods which python uses internally)\n",
        "     "
      ],
      "metadata": {
        "colab": {
          "base_uri": "https://localhost:8080/"
        },
        "id": "bUv1d4gm0bD8",
        "outputId": "80990874-fba7-47e8-e559-f8f5da342758"
      },
      "execution_count": 10,
      "outputs": [
        {
          "output_type": "execute_result",
          "data": {
            "text/plain": [
              "['__add__',\n",
              " '__class__',\n",
              " '__contains__',\n",
              " '__delattr__',\n",
              " '__dir__',\n",
              " '__doc__',\n",
              " '__eq__',\n",
              " '__format__',\n",
              " '__ge__',\n",
              " '__getattribute__',\n",
              " '__getitem__',\n",
              " '__getnewargs__',\n",
              " '__gt__',\n",
              " '__hash__',\n",
              " '__init__',\n",
              " '__init_subclass__',\n",
              " '__iter__',\n",
              " '__le__',\n",
              " '__len__',\n",
              " '__lt__',\n",
              " '__mod__',\n",
              " '__mul__',\n",
              " '__ne__',\n",
              " '__new__',\n",
              " '__reduce__',\n",
              " '__reduce_ex__',\n",
              " '__repr__',\n",
              " '__rmod__',\n",
              " '__rmul__',\n",
              " '__setattr__',\n",
              " '__sizeof__',\n",
              " '__str__',\n",
              " '__subclasshook__',\n",
              " 'capitalize',\n",
              " 'casefold',\n",
              " 'center',\n",
              " 'count',\n",
              " 'encode',\n",
              " 'endswith',\n",
              " 'expandtabs',\n",
              " 'find',\n",
              " 'format',\n",
              " 'format_map',\n",
              " 'index',\n",
              " 'isalnum',\n",
              " 'isalpha',\n",
              " 'isascii',\n",
              " 'isdecimal',\n",
              " 'isdigit',\n",
              " 'isidentifier',\n",
              " 'islower',\n",
              " 'isnumeric',\n",
              " 'isprintable',\n",
              " 'isspace',\n",
              " 'istitle',\n",
              " 'isupper',\n",
              " 'join',\n",
              " 'ljust',\n",
              " 'lower',\n",
              " 'lstrip',\n",
              " 'maketrans',\n",
              " 'partition',\n",
              " 'removeprefix',\n",
              " 'removesuffix',\n",
              " 'replace',\n",
              " 'rfind',\n",
              " 'rindex',\n",
              " 'rjust',\n",
              " 'rpartition',\n",
              " 'rsplit',\n",
              " 'rstrip',\n",
              " 'split',\n",
              " 'splitlines',\n",
              " 'startswith',\n",
              " 'strip',\n",
              " 'swapcase',\n",
              " 'title',\n",
              " 'translate',\n",
              " 'upper',\n",
              " 'zfill']"
            ]
          },
          "metadata": {},
          "execution_count": 10
        }
      ]
    },
    {
      "cell_type": "code",
      "source": [
        "str1=\"welcome to Data Science.\"\n",
        "str1.capitalize()\n",
        "     "
      ],
      "metadata": {
        "colab": {
          "base_uri": "https://localhost:8080/",
          "height": 36
        },
        "id": "AHjY6ZRR0eEf",
        "outputId": "11b2add3-edc5-48e2-cd58-49a137efb661"
      },
      "execution_count": 11,
      "outputs": [
        {
          "output_type": "execute_result",
          "data": {
            "text/plain": [
              "'Welcome to data science.'"
            ],
            "application/vnd.google.colaboratory.intrinsic+json": {
              "type": "string"
            }
          },
          "metadata": {},
          "execution_count": 11
        }
      ]
    },
    {
      "cell_type": "code",
      "source": [
        "str1.upper()\n"
      ],
      "metadata": {
        "colab": {
          "base_uri": "https://localhost:8080/",
          "height": 36
        },
        "id": "KwqIUWDw0jaT",
        "outputId": "263c23e0-3100-406b-8695-bd8cb946c7f8"
      },
      "execution_count": 12,
      "outputs": [
        {
          "output_type": "execute_result",
          "data": {
            "text/plain": [
              "'WELCOME TO DATA SCIENCE.'"
            ],
            "application/vnd.google.colaboratory.intrinsic+json": {
              "type": "string"
            }
          },
          "metadata": {},
          "execution_count": 12
        }
      ]
    },
    {
      "cell_type": "code",
      "source": [
        "str1.lower()"
      ],
      "metadata": {
        "colab": {
          "base_uri": "https://localhost:8080/",
          "height": 36
        },
        "id": "vJ6lyGKw0pib",
        "outputId": "87c7e3f2-6771-491c-f5a6-35290f466268"
      },
      "execution_count": 13,
      "outputs": [
        {
          "output_type": "execute_result",
          "data": {
            "text/plain": [
              "'welcome to data science.'"
            ],
            "application/vnd.google.colaboratory.intrinsic+json": {
              "type": "string"
            }
          },
          "metadata": {},
          "execution_count": 13
        }
      ]
    },
    {
      "cell_type": "code",
      "source": [
        "str1.title()\n",
        "     "
      ],
      "metadata": {
        "colab": {
          "base_uri": "https://localhost:8080/",
          "height": 36
        },
        "id": "TpPDBsHZ0sr9",
        "outputId": "6016f1ed-2348-4018-fa4a-9b34a2dcd51e"
      },
      "execution_count": 14,
      "outputs": [
        {
          "output_type": "execute_result",
          "data": {
            "text/plain": [
              "'Welcome To Data Science.'"
            ],
            "application/vnd.google.colaboratory.intrinsic+json": {
              "type": "string"
            }
          },
          "metadata": {},
          "execution_count": 14
        }
      ]
    },
    {
      "cell_type": "code",
      "source": [
        "food=\"bIrYAni\"\n",
        "name=\"sNEHAL\"\n",
        "print(food.swapcase())\n",
        "name.swapcase()"
      ],
      "metadata": {
        "colab": {
          "base_uri": "https://localhost:8080/",
          "height": 53
        },
        "id": "X181xi990v7u",
        "outputId": "5a6f544f-e33e-4d4a-9a8d-6f1f83563c14"
      },
      "execution_count": 15,
      "outputs": [
        {
          "output_type": "stream",
          "name": "stdout",
          "text": [
            "BiRyaNI\n"
          ]
        },
        {
          "output_type": "execute_result",
          "data": {
            "text/plain": [
              "'Snehal'"
            ],
            "application/vnd.google.colaboratory.intrinsic+json": {
              "type": "string"
            }
          },
          "metadata": {},
          "execution_count": 15
        }
      ]
    },
    {
      "cell_type": "code",
      "source": [
        "Name= \"riCha\"\n",
        "Name.swapcase()"
      ],
      "metadata": {
        "colab": {
          "base_uri": "https://localhost:8080/",
          "height": 36
        },
        "id": "gO3c6Eaz01g3",
        "outputId": "6000bafd-b375-437a-c158-d4826eca6307"
      },
      "execution_count": 16,
      "outputs": [
        {
          "output_type": "execute_result",
          "data": {
            "text/plain": [
              "'RIcHA'"
            ],
            "application/vnd.google.colaboratory.intrinsic+json": {
              "type": "string"
            }
          },
          "metadata": {},
          "execution_count": 16
        }
      ]
    },
    {
      "cell_type": "code",
      "source": [
        "\n",
        "s1=\"My name is Snehal.\"\n",
        "print(s1.split()) # list of strings is created\n",
        "s2=\"Mumbai-Pune-Mumbai\"\n",
        "s2.split(\"-\")\n"
      ],
      "metadata": {
        "colab": {
          "base_uri": "https://localhost:8080/"
        },
        "id": "QDM-fZYo1ESf",
        "outputId": "6e192cc8-fe00-46d7-e188-fd2edab51cf3"
      },
      "execution_count": 17,
      "outputs": [
        {
          "output_type": "stream",
          "name": "stdout",
          "text": [
            "['My', 'name', 'is', 'Snehal.']\n"
          ]
        },
        {
          "output_type": "execute_result",
          "data": {
            "text/plain": [
              "['Mumbai', 'Pune', 'Mumbai']"
            ]
          },
          "metadata": {},
          "execution_count": 17
        }
      ]
    },
    {
      "cell_type": "code",
      "source": [
        "mail=\"snehal@excelr.com\"\n",
        "mail.split(\"@\")\n",
        "     \n"
      ],
      "metadata": {
        "colab": {
          "base_uri": "https://localhost:8080/"
        },
        "id": "CJTB6FzC1QDw",
        "outputId": "2b8a391e-fb05-42f4-a3b6-aa2adf3feb12"
      },
      "execution_count": 18,
      "outputs": [
        {
          "output_type": "execute_result",
          "data": {
            "text/plain": [
              "['snehal', 'excelr.com']"
            ]
          },
          "metadata": {},
          "execution_count": 18
        }
      ]
    },
    {
      "cell_type": "code",
      "source": [
        "\n",
        "s1.replace(\"Snehal\",\"Richa\")"
      ],
      "metadata": {
        "colab": {
          "base_uri": "https://localhost:8080/",
          "height": 36
        },
        "id": "ZX-uNEeg6OOv",
        "outputId": "09086e56-eef1-4599-eae8-a50210defadf"
      },
      "execution_count": 19,
      "outputs": [
        {
          "output_type": "execute_result",
          "data": {
            "text/plain": [
              "'My name is Richa.'"
            ],
            "application/vnd.google.colaboratory.intrinsic+json": {
              "type": "string"
            }
          },
          "metadata": {},
          "execution_count": 19
        }
      ]
    },
    {
      "cell_type": "code",
      "source": [
        "# single line comment\n",
        "'''\n",
        "multiline comment \n",
        "'''"
      ],
      "metadata": {
        "colab": {
          "base_uri": "https://localhost:8080/",
          "height": 36
        },
        "id": "_qou1o8u6Zkh",
        "outputId": "a9531ca0-a930-4e5c-884d-23c2987ec8e3"
      },
      "execution_count": 20,
      "outputs": [
        {
          "output_type": "execute_result",
          "data": {
            "text/plain": [
              "'\\nmultiline comment \\n'"
            ],
            "application/vnd.google.colaboratory.intrinsic+json": {
              "type": "string"
            }
          },
          "metadata": {},
          "execution_count": 20
        }
      ]
    },
    {
      "cell_type": "code",
      "source": [
        "city=\"satara\"\n",
        "city.count(\"a\")"
      ],
      "metadata": {
        "colab": {
          "base_uri": "https://localhost:8080/"
        },
        "id": "LdJp29WH6ZoN",
        "outputId": "1727465d-e537-414d-e9aa-8a0c8c87dc83"
      },
      "execution_count": 21,
      "outputs": [
        {
          "output_type": "execute_result",
          "data": {
            "text/plain": [
              "3"
            ]
          },
          "metadata": {},
          "execution_count": 21
        }
      ]
    },
    {
      "cell_type": "code",
      "source": [
        "\"Satara\".count(\"a\")"
      ],
      "metadata": {
        "colab": {
          "base_uri": "https://localhost:8080/"
        },
        "id": "fa7TBLuV6Zrm",
        "outputId": "ffa2fd71-0f4c-4e9a-a574-a853ad09ad0b"
      },
      "execution_count": 22,
      "outputs": [
        {
          "output_type": "execute_result",
          "data": {
            "text/plain": [
              "3"
            ]
          },
          "metadata": {},
          "execution_count": 22
        }
      ]
    },
    {
      "cell_type": "code",
      "source": [
        "name=\"Raj\"\n",
        "name*4\n"
      ],
      "metadata": {
        "colab": {
          "base_uri": "https://localhost:8080/",
          "height": 36
        },
        "id": "8VXXC8ff6ZvT",
        "outputId": "a8e952d3-725d-4bfb-f910-433931414aad"
      },
      "execution_count": 23,
      "outputs": [
        {
          "output_type": "execute_result",
          "data": {
            "text/plain": [
              "'RajRajRajRaj'"
            ],
            "application/vnd.google.colaboratory.intrinsic+json": {
              "type": "string"
            }
          },
          "metadata": {},
          "execution_count": 23
        }
      ]
    },
    {
      "cell_type": "code",
      "source": [
        "n1=5\n",
        "n1*5"
      ],
      "metadata": {
        "colab": {
          "base_uri": "https://localhost:8080/"
        },
        "id": "aArN0I6R6Zyz",
        "outputId": "bfac79f3-1f78-4407-bb4c-c7da351ac232"
      },
      "execution_count": 24,
      "outputs": [
        {
          "output_type": "execute_result",
          "data": {
            "text/plain": [
              "25"
            ]
          },
          "metadata": {},
          "execution_count": 24
        }
      ]
    },
    {
      "cell_type": "code",
      "source": [
        "\n",
        "name=\"rajesh \"+\" Kulkarani\"\n"
      ],
      "metadata": {
        "id": "MGsNYBpL6Z2H"
      },
      "execution_count": 25,
      "outputs": []
    },
    {
      "cell_type": "code",
      "source": [
        "name"
      ],
      "metadata": {
        "colab": {
          "base_uri": "https://localhost:8080/",
          "height": 36
        },
        "id": "hi5M8xTa6Z-Y",
        "outputId": "d6bd9f9e-0f60-4133-b3da-b03beec05a37"
      },
      "execution_count": 26,
      "outputs": [
        {
          "output_type": "execute_result",
          "data": {
            "text/plain": [
              "'rajesh  Kulkarani'"
            ],
            "application/vnd.google.colaboratory.intrinsic+json": {
              "type": "string"
            }
          },
          "metadata": {},
          "execution_count": 26
        }
      ]
    },
    {
      "cell_type": "code",
      "source": [
        "# Conditional Statement\n",
        "a=30\n",
        "b=20\n",
        "if(a>b):\n",
        "  print(\"a is greater\")\n",
        "else:\n",
        "  print('b is greater')\n",
        "\n",
        "     "
      ],
      "metadata": {
        "colab": {
          "base_uri": "https://localhost:8080/"
        },
        "id": "skogqywN8pAF",
        "outputId": "0f291a71-bd9b-482d-f955-548618d1256b"
      },
      "execution_count": 27,
      "outputs": [
        {
          "output_type": "stream",
          "name": "stdout",
          "text": [
            "a is greater\n"
          ]
        }
      ]
    },
    {
      "cell_type": "code",
      "source": [
        "a=20\n",
        "b=30\n",
        "if(a>b):\n",
        "  print(a,\"is greater\")\n",
        "else:\n",
        "  print(\"Greatest number is:\",b)"
      ],
      "metadata": {
        "colab": {
          "base_uri": "https://localhost:8080/"
        },
        "id": "S9tHp4VF8s-q",
        "outputId": "aa2d3fb0-777b-411c-aa0e-cf21dc1771e4"
      },
      "execution_count": 28,
      "outputs": [
        {
          "output_type": "stream",
          "name": "stdout",
          "text": [
            "Greatest number is: 30\n"
          ]
        }
      ]
    },
    {
      "cell_type": "code",
      "source": [
        "salary=35000\n",
        "if (salary>20000):\n",
        "  tax=0.25\n",
        "  print(\"Hello from true if\")\n",
        "else:\n",
        "  tax=0.20\n",
        "  print(\"Hello from false if / else\")\n",
        "print(\"Bye... outside of if block\")\n",
        "net_sal=salary-tax*salary\n",
        "print(net_sal)  \n",
        "# change value of salary as 15000 and execute again"
      ],
      "metadata": {
        "colab": {
          "base_uri": "https://localhost:8080/"
        },
        "id": "k9mBdJRR89iX",
        "outputId": "f6110edc-74d7-48e0-cb57-bec528bae7eb"
      },
      "execution_count": 29,
      "outputs": [
        {
          "output_type": "stream",
          "name": "stdout",
          "text": [
            "Hello from true if\n",
            "Bye... outside of if block\n",
            "26250.0\n"
          ]
        }
      ]
    },
    {
      "cell_type": "code",
      "source": [
        "salary=15000\n",
        "if (salary>15000):\n",
        "  tax=0.25\n",
        "  print(\"Hello from true if\")\n",
        "else:\n",
        "  tax=0.20\n",
        "  print(\"Hello from false if / else\")\n",
        "print(\"Bye... outside of if block\")\n",
        "net_sal=salary-tax*salary\n",
        "print(\"Net Salary=\",net_sal)  "
      ],
      "metadata": {
        "colab": {
          "base_uri": "https://localhost:8080/"
        },
        "id": "TNyPz_-z9BA8",
        "outputId": "283b52ad-41e2-4d1c-b210-c4859178446f"
      },
      "execution_count": 30,
      "outputs": [
        {
          "output_type": "stream",
          "name": "stdout",
          "text": [
            "Hello from false if / else\n",
            "Bye... outside of if block\n",
            "Net Salary= 12000.0\n"
          ]
        }
      ]
    },
    {
      "cell_type": "code",
      "source": [
        "range(5,10)"
      ],
      "metadata": {
        "colab": {
          "base_uri": "https://localhost:8080/"
        },
        "id": "3foDCpGo93rj",
        "outputId": "2d09cad4-635c-430b-8fe3-be429d979fff"
      },
      "execution_count": 31,
      "outputs": [
        {
          "output_type": "execute_result",
          "data": {
            "text/plain": [
              "range(5, 10)"
            ]
          },
          "metadata": {},
          "execution_count": 31
        }
      ]
    },
    {
      "cell_type": "code",
      "source": [
        "list(range(5,10))"
      ],
      "metadata": {
        "colab": {
          "base_uri": "https://localhost:8080/"
        },
        "id": "aHF8kcmW99SJ",
        "outputId": "a463ce55-b522-4037-cea7-2f86dfb98273"
      },
      "execution_count": 32,
      "outputs": [
        {
          "output_type": "execute_result",
          "data": {
            "text/plain": [
              "[5, 6, 7, 8, 9]"
            ]
          },
          "metadata": {},
          "execution_count": 32
        }
      ]
    },
    {
      "cell_type": "code",
      "source": [
        "# For Loop\n",
        "for number in range(5,10): # Print numbers from 5 to 9. Default increment is 1.\n",
        "  print(number)\n",
        "     "
      ],
      "metadata": {
        "colab": {
          "base_uri": "https://localhost:8080/"
        },
        "id": "WCOAhG30-ASg",
        "outputId": "87484176-1caf-4f59-c093-7c5314384303"
      },
      "execution_count": 33,
      "outputs": [
        {
          "output_type": "stream",
          "name": "stdout",
          "text": [
            "5\n",
            "6\n",
            "7\n",
            "8\n",
            "9\n"
          ]
        }
      ]
    },
    {
      "cell_type": "code",
      "source": [
        "for i in range (1,20):\n",
        "  print(i)"
      ],
      "metadata": {
        "colab": {
          "base_uri": "https://localhost:8080/"
        },
        "id": "sYyRJmkn-Gtp",
        "outputId": "f0882eec-6b6e-43c9-fea6-f4b95ae2f10a"
      },
      "execution_count": 34,
      "outputs": [
        {
          "output_type": "stream",
          "name": "stdout",
          "text": [
            "1\n",
            "2\n",
            "3\n",
            "4\n",
            "5\n",
            "6\n",
            "7\n",
            "8\n",
            "9\n",
            "10\n",
            "11\n",
            "12\n",
            "13\n",
            "14\n",
            "15\n",
            "16\n",
            "17\n",
            "18\n",
            "19\n"
          ]
        }
      ]
    },
    {
      "cell_type": "code",
      "source": [
        "\n",
        "for i in range(1,6):\n",
        "  print(i)"
      ],
      "metadata": {
        "colab": {
          "base_uri": "https://localhost:8080/"
        },
        "id": "rnqzasLc-OgX",
        "outputId": "b1a19394-d93f-47b9-8fc5-aaaa0f2c9af1"
      },
      "execution_count": 35,
      "outputs": [
        {
          "output_type": "stream",
          "name": "stdout",
          "text": [
            "1\n",
            "2\n",
            "3\n",
            "4\n",
            "5\n"
          ]
        }
      ]
    },
    {
      "cell_type": "code",
      "source": [
        "# print numbers 1 to 10\n",
        "\n",
        "\n",
        "for i in range(1,11,1):\n",
        "  print(i)\n",
        "\n",
        "     "
      ],
      "metadata": {
        "colab": {
          "base_uri": "https://localhost:8080/"
        },
        "id": "POcKBPxe-ZGX",
        "outputId": "2f03acd5-3630-49b6-a04d-69a5dc4d05f0"
      },
      "execution_count": 36,
      "outputs": [
        {
          "output_type": "stream",
          "name": "stdout",
          "text": [
            "1\n",
            "2\n",
            "3\n",
            "4\n",
            "5\n",
            "6\n",
            "7\n",
            "8\n",
            "9\n",
            "10\n"
          ]
        }
      ]
    },
    {
      "cell_type": "code",
      "source": [
        "# Q1. print all even numbers from 1 to 20\n",
        "# Q2. print all odd numbers from 1 to 20"
      ],
      "metadata": {
        "id": "Dn04Hjwu-hKX"
      },
      "execution_count": 37,
      "outputs": []
    },
    {
      "cell_type": "code",
      "source": [
        "#Even\n",
        "for i in range(2,20,2):\n",
        "  print(i)"
      ],
      "metadata": {
        "colab": {
          "base_uri": "https://localhost:8080/"
        },
        "id": "7VOtDv88-kkn",
        "outputId": "b772e1a5-6425-4e8d-a111-3376aea3ec59"
      },
      "execution_count": 38,
      "outputs": [
        {
          "output_type": "stream",
          "name": "stdout",
          "text": [
            "2\n",
            "4\n",
            "6\n",
            "8\n",
            "10\n",
            "12\n",
            "14\n",
            "16\n",
            "18\n"
          ]
        }
      ]
    },
    {
      "cell_type": "code",
      "source": [
        "#odd\n",
        "for i in range(1,20,2):\n",
        "  print(i)"
      ],
      "metadata": {
        "colab": {
          "base_uri": "https://localhost:8080/"
        },
        "id": "gEf3QFe0-qCB",
        "outputId": "4b01d25a-9348-402a-a811-3853a08c412f"
      },
      "execution_count": 39,
      "outputs": [
        {
          "output_type": "stream",
          "name": "stdout",
          "text": [
            "1\n",
            "3\n",
            "5\n",
            "7\n",
            "9\n",
            "11\n",
            "13\n",
            "15\n",
            "17\n",
            "19\n"
          ]
        }
      ]
    },
    {
      "cell_type": "code",
      "source": [
        "# 'break' statement terminates the loop when condition is satisfied\n",
        "for i in range(1,11):\n",
        "    if i==5:\n",
        "       #print(\"Same\")\n",
        "       break\n",
        "    else:\n",
        "        print(i)"
      ],
      "metadata": {
        "colab": {
          "base_uri": "https://localhost:8080/"
        },
        "id": "IkgiGCXw-0P0",
        "outputId": "5599ffd7-fd47-4f90-8222-1fac70626a5b"
      },
      "execution_count": 40,
      "outputs": [
        {
          "output_type": "stream",
          "name": "stdout",
          "text": [
            "1\n",
            "2\n",
            "3\n",
            "4\n"
          ]
        }
      ]
    },
    {
      "cell_type": "code",
      "source": [
        "for num in range(11): # 0 to 9 \n",
        "  print(num, num*num) # num and its square"
      ],
      "metadata": {
        "colab": {
          "base_uri": "https://localhost:8080/"
        },
        "id": "gHro5i5e-_Fb",
        "outputId": "d715c71e-1447-46c3-ee06-acd372dafb93"
      },
      "execution_count": 41,
      "outputs": [
        {
          "output_type": "stream",
          "name": "stdout",
          "text": [
            "0 0\n",
            "1 1\n",
            "2 4\n",
            "3 9\n",
            "4 16\n",
            "5 25\n",
            "6 36\n",
            "7 49\n",
            "8 64\n",
            "9 81\n",
            "10 100\n"
          ]
        }
      ]
    },
    {
      "cell_type": "code",
      "source": [
        "# range(start,stop,step)\n",
        "for i in range(1,30,5):\n",
        "  # print(i)\n",
        "  print(i,\"@\")\n"
      ],
      "metadata": {
        "colab": {
          "base_uri": "https://localhost:8080/"
        },
        "id": "lN69yLZ-_CyR",
        "outputId": "347bce2f-9eea-464f-f1d0-6daf1e902cf4"
      },
      "execution_count": 42,
      "outputs": [
        {
          "output_type": "stream",
          "name": "stdout",
          "text": [
            "1 @\n",
            "6 @\n",
            "11 @\n",
            "16 @\n",
            "21 @\n",
            "26 @\n"
          ]
        }
      ]
    },
    {
      "cell_type": "code",
      "source": [
        "for number in range(5,10): # Print numbers from 5 to 9. Default increment is 1.\n",
        "  print(number)\n",
        "print(\"Bye\")"
      ],
      "metadata": {
        "colab": {
          "base_uri": "https://localhost:8080/"
        },
        "id": "ilcCDsFh_H9A",
        "outputId": "ce466502-8a99-4cd0-8e95-79080b36ec75"
      },
      "execution_count": 43,
      "outputs": [
        {
          "output_type": "stream",
          "name": "stdout",
          "text": [
            "5\n",
            "6\n",
            "7\n",
            "8\n",
            "9\n",
            "Bye\n"
          ]
        }
      ]
    },
    {
      "cell_type": "code",
      "source": [
        "for number in range(5,10): # Print numbers from 5 to 9. Default increment is 1.\n",
        "  print(number)\n",
        "  print(\"Bye\")"
      ],
      "metadata": {
        "colab": {
          "base_uri": "https://localhost:8080/"
        },
        "id": "JBET7oKC_NZj",
        "outputId": "ed92bfa1-712a-43b9-b0f8-ef006cd29671"
      },
      "execution_count": 44,
      "outputs": [
        {
          "output_type": "stream",
          "name": "stdout",
          "text": [
            "5\n",
            "Bye\n",
            "6\n",
            "Bye\n",
            "7\n",
            "Bye\n",
            "8\n",
            "Bye\n",
            "9\n",
            "Bye\n"
          ]
        }
      ]
    },
    {
      "cell_type": "code",
      "source": [
        "subject=\"Science\"\n",
        "for letter in subject:\n",
        "  print(letter)"
      ],
      "metadata": {
        "colab": {
          "base_uri": "https://localhost:8080/"
        },
        "id": "l3z8KEi4_QiJ",
        "outputId": "03aaf550-0a85-463e-9477-2922407a1cfc"
      },
      "execution_count": 45,
      "outputs": [
        {
          "output_type": "stream",
          "name": "stdout",
          "text": [
            "S\n",
            "c\n",
            "i\n",
            "e\n",
            "n\n",
            "c\n",
            "e\n"
          ]
        }
      ]
    },
    {
      "cell_type": "code",
      "source": [
        "# print name 3 times on first line, 4 times on 2nd, 5 - 3rd, 6 - 4th line. Range(3,7)\n",
        "name=\"Richa\"\n",
        "for i in range(3,7):\n",
        "  print(name*i)"
      ],
      "metadata": {
        "colab": {
          "base_uri": "https://localhost:8080/"
        },
        "id": "ecwD64Ex_Xo2",
        "outputId": "bead9139-6d8f-4ff1-8ab8-d99705bef047"
      },
      "execution_count": 46,
      "outputs": [
        {
          "output_type": "stream",
          "name": "stdout",
          "text": [
            "RichaRichaRicha\n",
            "RichaRichaRichaRicha\n",
            "RichaRichaRichaRichaRicha\n",
            "RichaRichaRichaRichaRichaRicha\n"
          ]
        }
      ]
    },
    {
      "cell_type": "code",
      "source": [
        "# print each letter of movie on separate line\n",
        "# change case of each letter (upper to small and small to upper) of movie on single line with seperator ~\n",
        "movie=\"Drishyam\"\n",
        "for letter in movie:\n",
        "  #print(letter)\n",
        "  #print(letter.swapcase())\n",
        "  print(letter.swapcase(),end=\" # \") #try upper(), lower(),\"-\",\"#\",etc. Default end parameter is 'new line'\n",
        "     "
      ],
      "metadata": {
        "colab": {
          "base_uri": "https://localhost:8080/"
        },
        "id": "nkgR2fWCAJOG",
        "outputId": "ab5c73c6-51d6-405f-ce03-0dec3715bb21"
      },
      "execution_count": 47,
      "outputs": [
        {
          "output_type": "stream",
          "name": "stdout",
          "text": [
            "d # R # I # S # H # Y # A # M # "
          ]
        }
      ]
    },
    {
      "cell_type": "code",
      "source": [
        "Name=\"Anushka\"\n",
        "for letter in name:\n",
        "  print(letter,end=\" \")"
      ],
      "metadata": {
        "colab": {
          "base_uri": "https://localhost:8080/"
        },
        "id": "gHLslImLAUKf",
        "outputId": "3300257f-689e-4aad-e6d5-263f39c72b92"
      },
      "execution_count": 48,
      "outputs": [
        {
          "output_type": "stream",
          "name": "stdout",
          "text": [
            "R i c h a "
          ]
        }
      ]
    },
    {
      "cell_type": "code",
      "source": [
        "alphabet= \"abcdefghij\"\n",
        "for letter in alphabet:\n",
        "  print(letter.swapcase(),end=\" \")"
      ],
      "metadata": {
        "colab": {
          "base_uri": "https://localhost:8080/"
        },
        "id": "prpMDlkgAlTt",
        "outputId": "f3d9a8a7-5a88-474b-a1cf-6d872148a038"
      },
      "execution_count": 49,
      "outputs": [
        {
          "output_type": "stream",
          "name": "stdout",
          "text": [
            "A B C D E F G H I J "
          ]
        }
      ]
    },
    {
      "cell_type": "code",
      "source": [
        "alphabet= \"abcdefghij\"\n",
        "for letter in alphabet:\n",
        "  print(letter.swapcase(),end=\" #\")"
      ],
      "metadata": {
        "colab": {
          "base_uri": "https://localhost:8080/"
        },
        "id": "2xeLWFrmB4Kp",
        "outputId": "f55228bf-e0c2-419e-c8b8-c1dc4699a4f4"
      },
      "execution_count": 50,
      "outputs": [
        {
          "output_type": "stream",
          "name": "stdout",
          "text": [
            "A #B #C #D #E #F #G #H #I #J #"
          ]
        }
      ]
    },
    {
      "cell_type": "code",
      "source": [
        "# Print all even and odd numbers between given range using For Loop\n",
        "for i in range(1, 11):\n",
        "    if i % 2 == 0:\n",
        "        print('Even Number:', i)\n",
        "    else:\n",
        "        print('Odd Number:', i)\n",
        "     "
      ],
      "metadata": {
        "colab": {
          "base_uri": "https://localhost:8080/"
        },
        "id": "KGJDh3dlB-P6",
        "outputId": "8d4ba1f7-8ef8-453b-8dda-2b3f07f3ce22"
      },
      "execution_count": 51,
      "outputs": [
        {
          "output_type": "stream",
          "name": "stdout",
          "text": [
            "Odd Number: 1\n",
            "Even Number: 2\n",
            "Odd Number: 3\n",
            "Even Number: 4\n",
            "Odd Number: 5\n",
            "Even Number: 6\n",
            "Odd Number: 7\n",
            "Even Number: 8\n",
            "Odd Number: 9\n",
            "Even Number: 10\n"
          ]
        }
      ]
    },
    {
      "cell_type": "code",
      "source": [
        "# Print all even and odd numbers between given range using For Loop\n",
        "print('Even Numbers:')\n",
        "for i in range(1, 11):\n",
        "  if i % 2 == 0:\n",
        "    print(i)\n",
        "    \n",
        "print('Odd Numbers:')\n",
        "for i in range(1,11):\n",
        "  if i%2!=0: # != not equal to\n",
        "    print(i)  "
      ],
      "metadata": {
        "colab": {
          "base_uri": "https://localhost:8080/"
        },
        "id": "nybwG0FaF5N9",
        "outputId": "965e53b9-33f9-459d-fc7b-a0bbe58aa0bf"
      },
      "execution_count": 52,
      "outputs": [
        {
          "output_type": "stream",
          "name": "stdout",
          "text": [
            "Even Numbers:\n",
            "2\n",
            "4\n",
            "6\n",
            "8\n",
            "10\n",
            "Odd Numbers:\n",
            "1\n",
            "3\n",
            "5\n",
            "7\n",
            "9\n"
          ]
        }
      ]
    },
    {
      "cell_type": "code",
      "source": [
        "status1= True\n",
        "type(status1)"
      ],
      "metadata": {
        "colab": {
          "base_uri": "https://localhost:8080/"
        },
        "id": "IDVeNAECGQX4",
        "outputId": "f309a5d5-85eb-45d5-d7d2-b089cf109713"
      },
      "execution_count": 53,
      "outputs": [
        {
          "output_type": "execute_result",
          "data": {
            "text/plain": [
              "bool"
            ]
          },
          "metadata": {},
          "execution_count": 53
        }
      ]
    },
    {
      "cell_type": "code",
      "source": [
        "status2=False\n",
        "type(status2)"
      ],
      "metadata": {
        "colab": {
          "base_uri": "https://localhost:8080/"
        },
        "id": "vVIipCqaGdrE",
        "outputId": "b14a0bab-0955-4cde-eda1-0de07814241a"
      },
      "execution_count": 54,
      "outputs": [
        {
          "output_type": "execute_result",
          "data": {
            "text/plain": [
              "bool"
            ]
          },
          "metadata": {},
          "execution_count": 54
        }
      ]
    },
    {
      "cell_type": "code",
      "source": [
        "# print each letter 4 times with separator as space\n",
        "for letter in \"Data Science\":\n",
        "  print(letter*4,end=\" \")\n",
        "     "
      ],
      "metadata": {
        "colab": {
          "base_uri": "https://localhost:8080/"
        },
        "id": "Z-NNUW0BGmuu",
        "outputId": "f7dd14ad-4150-4bcb-eed4-cdb08f03a9b5"
      },
      "execution_count": 55,
      "outputs": [
        {
          "output_type": "stream",
          "name": "stdout",
          "text": [
            "DDDD aaaa tttt aaaa      SSSS cccc iiii eeee nnnn cccc eeee "
          ]
        }
      ]
    },
    {
      "cell_type": "code",
      "source": [
        "for word in \"Data science\":\n",
        "  print(word*2,end=\" \")"
      ],
      "metadata": {
        "colab": {
          "base_uri": "https://localhost:8080/"
        },
        "id": "WqE5CBn2GsJT",
        "outputId": "e0786801-5bc4-44c7-d7ea-f1acf83e7895"
      },
      "execution_count": 56,
      "outputs": [
        {
          "output_type": "stream",
          "name": "stdout",
          "text": [
            "DD aa tt aa    ss cc ii ee nn cc ee "
          ]
        }
      ]
    },
    {
      "cell_type": "code",
      "source": [
        "len(\"My name\")"
      ],
      "metadata": {
        "colab": {
          "base_uri": "https://localhost:8080/"
        },
        "id": "S3bBc4DRG-GW",
        "outputId": "1a805bb5-4845-4905-a5c2-d003da839e7d"
      },
      "execution_count": 57,
      "outputs": [
        {
          "output_type": "execute_result",
          "data": {
            "text/plain": [
              "7"
            ]
          },
          "metadata": {},
          "execution_count": 57
        }
      ]
    },
    {
      "cell_type": "code",
      "source": [
        "len(\"richa\")"
      ],
      "metadata": {
        "colab": {
          "base_uri": "https://localhost:8080/"
        },
        "id": "E69o9BjZHEMZ",
        "outputId": "f455233b-81e8-439f-e66c-090771e3e9c3"
      },
      "execution_count": 58,
      "outputs": [
        {
          "output_type": "execute_result",
          "data": {
            "text/plain": [
              "5"
            ]
          },
          "metadata": {},
          "execution_count": 58
        }
      ]
    },
    {
      "cell_type": "code",
      "source": [
        "# Data Structure: 1.LIST\n",
        "# Lists are mutable.\n",
        "# created using square brackets []\n",
        "marks=[40,55,70,60,80,85,78]\n",
        "marks\n",
        "     "
      ],
      "metadata": {
        "colab": {
          "base_uri": "https://localhost:8080/"
        },
        "id": "70SNoF7OHHfu",
        "outputId": "794980f3-7453-4b27-ce78-af7ec4beed99"
      },
      "execution_count": 59,
      "outputs": [
        {
          "output_type": "execute_result",
          "data": {
            "text/plain": [
              "[40, 55, 70, 60, 80, 85, 78]"
            ]
          },
          "metadata": {},
          "execution_count": 59
        }
      ]
    },
    {
      "cell_type": "code",
      "source": [
        "type(marks)"
      ],
      "metadata": {
        "colab": {
          "base_uri": "https://localhost:8080/"
        },
        "id": "f_WYdF_CHLDM",
        "outputId": "82c3fb8b-a5b6-4fe2-ee55-e55152402aca"
      },
      "execution_count": 60,
      "outputs": [
        {
          "output_type": "execute_result",
          "data": {
            "text/plain": [
              "list"
            ]
          },
          "metadata": {},
          "execution_count": 60
        }
      ]
    },
    {
      "cell_type": "code",
      "source": [
        "dir(list)"
      ],
      "metadata": {
        "colab": {
          "base_uri": "https://localhost:8080/"
        },
        "id": "RfFrB82VHOj2",
        "outputId": "82154ec9-81b4-4df0-977d-4064da861d9d"
      },
      "execution_count": 61,
      "outputs": [
        {
          "output_type": "execute_result",
          "data": {
            "text/plain": [
              "['__add__',\n",
              " '__class__',\n",
              " '__class_getitem__',\n",
              " '__contains__',\n",
              " '__delattr__',\n",
              " '__delitem__',\n",
              " '__dir__',\n",
              " '__doc__',\n",
              " '__eq__',\n",
              " '__format__',\n",
              " '__ge__',\n",
              " '__getattribute__',\n",
              " '__getitem__',\n",
              " '__gt__',\n",
              " '__hash__',\n",
              " '__iadd__',\n",
              " '__imul__',\n",
              " '__init__',\n",
              " '__init_subclass__',\n",
              " '__iter__',\n",
              " '__le__',\n",
              " '__len__',\n",
              " '__lt__',\n",
              " '__mul__',\n",
              " '__ne__',\n",
              " '__new__',\n",
              " '__reduce__',\n",
              " '__reduce_ex__',\n",
              " '__repr__',\n",
              " '__reversed__',\n",
              " '__rmul__',\n",
              " '__setattr__',\n",
              " '__setitem__',\n",
              " '__sizeof__',\n",
              " '__str__',\n",
              " '__subclasshook__',\n",
              " 'append',\n",
              " 'clear',\n",
              " 'copy',\n",
              " 'count',\n",
              " 'extend',\n",
              " 'index',\n",
              " 'insert',\n",
              " 'pop',\n",
              " 'remove',\n",
              " 'reverse',\n",
              " 'sort']"
            ]
          },
          "metadata": {},
          "execution_count": 61
        }
      ]
    },
    {
      "cell_type": "code",
      "source": [
        "len(marks)"
      ],
      "metadata": {
        "colab": {
          "base_uri": "https://localhost:8080/"
        },
        "id": "6e2NpBmKHRlw",
        "outputId": "a4ba7b1d-ff40-4a97-c1b5-5f9f5397556c"
      },
      "execution_count": 62,
      "outputs": [
        {
          "output_type": "execute_result",
          "data": {
            "text/plain": [
              "7"
            ]
          },
          "metadata": {},
          "execution_count": 62
        }
      ]
    },
    {
      "cell_type": "code",
      "source": [
        "new_marks=sorted(marks) # creates new sorted list. Original marks list remains unchanged\n",
        "new_marks\n",
        "     "
      ],
      "metadata": {
        "colab": {
          "base_uri": "https://localhost:8080/"
        },
        "id": "Tof9C-8YHVso",
        "outputId": "93aa44e9-6e22-4be8-b90b-01e003c7e74c"
      },
      "execution_count": 63,
      "outputs": [
        {
          "output_type": "execute_result",
          "data": {
            "text/plain": [
              "[40, 55, 60, 70, 78, 80, 85]"
            ]
          },
          "metadata": {},
          "execution_count": 63
        }
      ]
    },
    {
      "cell_type": "code",
      "source": [
        "marks"
      ],
      "metadata": {
        "colab": {
          "base_uri": "https://localhost:8080/"
        },
        "id": "La4Fap0NHaYr",
        "outputId": "468ef689-84ac-45d1-b318-3c2b3d9de9a8"
      },
      "execution_count": 64,
      "outputs": [
        {
          "output_type": "execute_result",
          "data": {
            "text/plain": [
              "[40, 55, 70, 60, 80, 85, 78]"
            ]
          },
          "metadata": {},
          "execution_count": 64
        }
      ]
    },
    {
      "cell_type": "code",
      "source": [
        "marks.sort() # original list is sorted in ascending order by default\n",
        "marks\n"
      ],
      "metadata": {
        "colab": {
          "base_uri": "https://localhost:8080/"
        },
        "id": "jDellN5JHbte",
        "outputId": "72d42f89-6508-4f9e-8d57-7a5b7a7a506d"
      },
      "execution_count": 65,
      "outputs": [
        {
          "output_type": "execute_result",
          "data": {
            "text/plain": [
              "[40, 55, 60, 70, 78, 80, 85]"
            ]
          },
          "metadata": {},
          "execution_count": 65
        }
      ]
    },
    {
      "cell_type": "code",
      "source": [
        "marks.append(35)\n",
        "marks"
      ],
      "metadata": {
        "colab": {
          "base_uri": "https://localhost:8080/"
        },
        "id": "03t1zOdwHiaR",
        "outputId": "1a3df126-7c71-4ebd-b243-156c17630d47"
      },
      "execution_count": 66,
      "outputs": [
        {
          "output_type": "execute_result",
          "data": {
            "text/plain": [
              "[40, 55, 60, 70, 78, 80, 85, 35]"
            ]
          },
          "metadata": {},
          "execution_count": 66
        }
      ]
    },
    {
      "cell_type": "code",
      "source": [
        "marks.reverse()\n"
      ],
      "metadata": {
        "id": "LY75RVj2HnLA"
      },
      "execution_count": 67,
      "outputs": []
    },
    {
      "cell_type": "code",
      "source": [
        "marks\n"
      ],
      "metadata": {
        "colab": {
          "base_uri": "https://localhost:8080/"
        },
        "id": "0_uDTcR_Hzzo",
        "outputId": "8c1857a5-572d-424b-a878-dfed8ed72367"
      },
      "execution_count": 68,
      "outputs": [
        {
          "output_type": "execute_result",
          "data": {
            "text/plain": [
              "[35, 85, 80, 78, 70, 60, 55, 40]"
            ]
          },
          "metadata": {},
          "execution_count": 68
        }
      ]
    },
    {
      "cell_type": "code",
      "source": [
        "marks2=[42,64,50,78,87,80]"
      ],
      "metadata": {
        "id": "g-f3ENpKIJU5"
      },
      "execution_count": 69,
      "outputs": []
    },
    {
      "cell_type": "code",
      "source": [
        "marks2.sort(reverse=True) # sorts in descending order when reverse=True\n",
        "marks2"
      ],
      "metadata": {
        "colab": {
          "base_uri": "https://localhost:8080/"
        },
        "id": "VHhd1T4TIOZI",
        "outputId": "6b8902de-189b-4fe7-e7c5-8ed2ea895779"
      },
      "execution_count": 70,
      "outputs": [
        {
          "output_type": "execute_result",
          "data": {
            "text/plain": [
              "[87, 80, 78, 64, 50, 42]"
            ]
          },
          "metadata": {},
          "execution_count": 70
        }
      ]
    },
    {
      "cell_type": "code",
      "source": [
        "marks3=[40,60,50,70,80,85]\n",
        "marks3.sort(reverse=False)"
      ],
      "metadata": {
        "id": "MMixZJ6dISKE"
      },
      "execution_count": 71,
      "outputs": []
    },
    {
      "cell_type": "code",
      "source": [
        "marks"
      ],
      "metadata": {
        "colab": {
          "base_uri": "https://localhost:8080/"
        },
        "id": "Ed-fB5IZIWWV",
        "outputId": "2fd58fe6-2486-466c-b005-6a5dd4d09021"
      },
      "execution_count": 72,
      "outputs": [
        {
          "output_type": "execute_result",
          "data": {
            "text/plain": [
              "[35, 85, 80, 78, 70, 60, 55, 40]"
            ]
          },
          "metadata": {},
          "execution_count": 72
        }
      ]
    },
    {
      "cell_type": "code",
      "source": [
        "90 in marks # checks whether 90 is present in list or not. IF yes returns True, "
      ],
      "metadata": {
        "colab": {
          "base_uri": "https://localhost:8080/"
        },
        "id": "tybr96E3IXcL",
        "outputId": "da248faf-3538-48ea-90be-83ee5982af04"
      },
      "execution_count": 73,
      "outputs": [
        {
          "output_type": "execute_result",
          "data": {
            "text/plain": [
              "False"
            ]
          },
          "metadata": {},
          "execution_count": 73
        }
      ]
    },
    {
      "cell_type": "code",
      "source": [
        "60 in marks2"
      ],
      "metadata": {
        "colab": {
          "base_uri": "https://localhost:8080/"
        },
        "id": "ARGY5vrlIb-V",
        "outputId": "c3f09c21-d6ed-407c-8594-c153a1d61d49"
      },
      "execution_count": 74,
      "outputs": [
        {
          "output_type": "execute_result",
          "data": {
            "text/plain": [
              "False"
            ]
          },
          "metadata": {},
          "execution_count": 74
        }
      ]
    },
    {
      "cell_type": "code",
      "source": [
        "50 in marks3"
      ],
      "metadata": {
        "colab": {
          "base_uri": "https://localhost:8080/"
        },
        "id": "Rc739L99Id_A",
        "outputId": "a4a60447-ec95-4de4-c75b-98ea568ff3de"
      },
      "execution_count": 75,
      "outputs": [
        {
          "output_type": "execute_result",
          "data": {
            "text/plain": [
              "True"
            ]
          },
          "metadata": {},
          "execution_count": 75
        }
      ]
    },
    {
      "cell_type": "code",
      "source": [
        "list1=[10,20,30]\n",
        "list2=[40,50,60]\n",
        "list1 + list2 # concatenation of two list"
      ],
      "metadata": {
        "colab": {
          "base_uri": "https://localhost:8080/"
        },
        "id": "Ew5EwEQNIimd",
        "outputId": "b87d1c57-af70-45d0-b5c9-47da9cabeda8"
      },
      "execution_count": 76,
      "outputs": [
        {
          "output_type": "execute_result",
          "data": {
            "text/plain": [
              "[10, 20, 30, 40, 50, 60]"
            ]
          },
          "metadata": {},
          "execution_count": 76
        }
      ]
    },
    {
      "cell_type": "code",
      "source": [
        "(list1+list2)*3 # repeats 3 times\n"
      ],
      "metadata": {
        "colab": {
          "base_uri": "https://localhost:8080/"
        },
        "id": "ksH4d4n0InON",
        "outputId": "32f03bbf-a84d-45ed-b443-5c27065b85ed"
      },
      "execution_count": 77,
      "outputs": [
        {
          "output_type": "execute_result",
          "data": {
            "text/plain": [
              "[10, 20, 30, 40, 50, 60, 10, 20, 30, 40, 50, 60, 10, 20, 30, 40, 50, 60]"
            ]
          },
          "metadata": {},
          "execution_count": 77
        }
      ]
    },
    {
      "cell_type": "code",
      "source": [
        "# List of Strings\n",
        "list3=[\"Mango\",\"Apple\",\"Banana\",\"Pineapple\",\"Custard Apple\",\"Strawberry\"]\n",
        "list3\n",
        "     \n",
        "     \n"
      ],
      "metadata": {
        "colab": {
          "base_uri": "https://localhost:8080/"
        },
        "id": "CsSlZj1_Ir8b",
        "outputId": "e0fbf410-385d-4550-bd21-8762f4587404"
      },
      "execution_count": 78,
      "outputs": [
        {
          "output_type": "execute_result",
          "data": {
            "text/plain": [
              "['Mango', 'Apple', 'Banana', 'Pineapple', 'Custard Apple', 'Strawberry']"
            ]
          },
          "metadata": {},
          "execution_count": 78
        }
      ]
    },
    {
      "cell_type": "code",
      "source": [
        "\n",
        "for fruit in list3:\n",
        "  print(fruit.replace(\"a\",\"u\"), end=\" \")\n"
      ],
      "metadata": {
        "colab": {
          "base_uri": "https://localhost:8080/"
        },
        "id": "rXl0uOLvJBrC",
        "outputId": "8c047923-0807-4a5a-9508-bbf585cc3ef7"
      },
      "execution_count": 79,
      "outputs": [
        {
          "output_type": "stream",
          "name": "stdout",
          "text": [
            "Mungo Apple Bununu Pineupple Custurd Apple Struwberry "
          ]
        }
      ]
    },
    {
      "cell_type": "code",
      "source": [
        "for fruit in list3:\n",
        "  print(fruit.upper(),end=\" \")"
      ],
      "metadata": {
        "colab": {
          "base_uri": "https://localhost:8080/"
        },
        "id": "BY9SfKiQJN2N",
        "outputId": "b1a8553b-eb6e-4c84-9afe-c534a611b011"
      },
      "execution_count": 80,
      "outputs": [
        {
          "output_type": "stream",
          "name": "stdout",
          "text": [
            "MANGO APPLE BANANA PINEAPPLE CUSTARD APPLE STRAWBERRY "
          ]
        }
      ]
    },
    {
      "cell_type": "code",
      "source": [
        "for fruit in list3:\n",
        "  print(fruit.lower(),end=\" \")"
      ],
      "metadata": {
        "colab": {
          "base_uri": "https://localhost:8080/"
        },
        "id": "_foEswt1JZHd",
        "outputId": "07f108fe-b16c-4ecd-8332-c0bcbe272ab8"
      },
      "execution_count": 81,
      "outputs": [
        {
          "output_type": "stream",
          "name": "stdout",
          "text": [
            "mango apple banana pineapple custard apple strawberry "
          ]
        }
      ]
    },
    {
      "cell_type": "code",
      "source": [
        "# In Python Indexing starts with 0\n",
        "list3"
      ],
      "metadata": {
        "colab": {
          "base_uri": "https://localhost:8080/"
        },
        "id": "ytZp_depJd1f",
        "outputId": "7830ac58-dc3f-4efa-8750-e0d7fcbc240d"
      },
      "execution_count": 82,
      "outputs": [
        {
          "output_type": "execute_result",
          "data": {
            "text/plain": [
              "['Mango', 'Apple', 'Banana', 'Pineapple', 'Custard Apple', 'Strawberry']"
            ]
          },
          "metadata": {},
          "execution_count": 82
        }
      ]
    },
    {
      "cell_type": "code",
      "source": [
        "list3[0]"
      ],
      "metadata": {
        "colab": {
          "base_uri": "https://localhost:8080/",
          "height": 36
        },
        "id": "RdeFMYgpJkMW",
        "outputId": "307a4fc2-d0fd-4f5c-b2be-db57990a769d"
      },
      "execution_count": 83,
      "outputs": [
        {
          "output_type": "execute_result",
          "data": {
            "text/plain": [
              "'Mango'"
            ],
            "application/vnd.google.colaboratory.intrinsic+json": {
              "type": "string"
            }
          },
          "metadata": {},
          "execution_count": 83
        }
      ]
    },
    {
      "cell_type": "code",
      "source": [
        "list3[4]"
      ],
      "metadata": {
        "colab": {
          "base_uri": "https://localhost:8080/",
          "height": 36
        },
        "id": "h0XHg8xYJoC1",
        "outputId": "5414c5c8-69bd-42ed-a5fb-aa9783dd9d63"
      },
      "execution_count": 84,
      "outputs": [
        {
          "output_type": "execute_result",
          "data": {
            "text/plain": [
              "'Custard Apple'"
            ],
            "application/vnd.google.colaboratory.intrinsic+json": {
              "type": "string"
            }
          },
          "metadata": {},
          "execution_count": 84
        }
      ]
    },
    {
      "cell_type": "code",
      "source": [
        "list3.count(\"banana\")"
      ],
      "metadata": {
        "colab": {
          "base_uri": "https://localhost:8080/"
        },
        "id": "RD5P3JjFJq2B",
        "outputId": "85499c32-2006-40d5-fa73-3ba732854621"
      },
      "execution_count": 85,
      "outputs": [
        {
          "output_type": "execute_result",
          "data": {
            "text/plain": [
              "0"
            ]
          },
          "metadata": {},
          "execution_count": 85
        }
      ]
    },
    {
      "cell_type": "code",
      "source": [
        "list3[6] # raise erro as index is upto 5 only (0 to 5)"
      ],
      "metadata": {
        "id": "AttxgiQaJwR-",
        "colab": {
          "base_uri": "https://localhost:8080/",
          "height": 165
        },
        "outputId": "9b953154-5410-4ec8-bf0f-2ec433562581"
      },
      "execution_count": 86,
      "outputs": [
        {
          "output_type": "error",
          "ename": "IndexError",
          "evalue": "ignored",
          "traceback": [
            "\u001b[0;31m---------------------------------------------------------------------------\u001b[0m",
            "\u001b[0;31mIndexError\u001b[0m                                Traceback (most recent call last)",
            "\u001b[0;32m<ipython-input-86-ae433c275bff>\u001b[0m in \u001b[0;36m<cell line: 1>\u001b[0;34m()\u001b[0m\n\u001b[0;32m----> 1\u001b[0;31m \u001b[0mlist3\u001b[0m\u001b[0;34m[\u001b[0m\u001b[0;36m6\u001b[0m\u001b[0;34m]\u001b[0m \u001b[0;31m# raise erro as index is upto 5 only (0 to 5)\u001b[0m\u001b[0;34m\u001b[0m\u001b[0;34m\u001b[0m\u001b[0m\n\u001b[0m",
            "\u001b[0;31mIndexError\u001b[0m: list index out of range"
          ]
        }
      ]
    },
    {
      "cell_type": "code",
      "source": [
        "list3[5]"
      ],
      "metadata": {
        "colab": {
          "base_uri": "https://localhost:8080/",
          "height": 36
        },
        "id": "QFq3kvzaJ-9p",
        "outputId": "d2d6fd71-0d0a-4e2d-e54f-70b24f8d5c9b"
      },
      "execution_count": 87,
      "outputs": [
        {
          "output_type": "execute_result",
          "data": {
            "text/plain": [
              "'Strawberry'"
            ],
            "application/vnd.google.colaboratory.intrinsic+json": {
              "type": "string"
            }
          },
          "metadata": {},
          "execution_count": 87
        }
      ]
    },
    {
      "cell_type": "code",
      "source": [
        "# Slicing\n",
        "list3[0:4] # 0,1,2,3"
      ],
      "metadata": {
        "colab": {
          "base_uri": "https://localhost:8080/"
        },
        "id": "YWYy0FRuKCht",
        "outputId": "77b6705b-c35d-49ed-f797-7ee01d7a27fc"
      },
      "execution_count": 88,
      "outputs": [
        {
          "output_type": "execute_result",
          "data": {
            "text/plain": [
              "['Mango', 'Apple', 'Banana', 'Pineapple']"
            ]
          },
          "metadata": {},
          "execution_count": 88
        }
      ]
    },
    {
      "cell_type": "code",
      "source": [
        "# from Apple to Strawberry i.e. till end\n",
        "list3[1:]"
      ],
      "metadata": {
        "colab": {
          "base_uri": "https://localhost:8080/"
        },
        "id": "XZ82pfXyKHnb",
        "outputId": "873cdbcb-1a18-49e8-ab14-3d5ccf62f22b"
      },
      "execution_count": 89,
      "outputs": [
        {
          "output_type": "execute_result",
          "data": {
            "text/plain": [
              "['Apple', 'Banana', 'Pineapple', 'Custard Apple', 'Strawberry']"
            ]
          },
          "metadata": {},
          "execution_count": 89
        }
      ]
    },
    {
      "cell_type": "code",
      "source": [
        "\n",
        "\n",
        "# from beginning to Pinaapple\n",
        "list3[:4]"
      ],
      "metadata": {
        "colab": {
          "base_uri": "https://localhost:8080/"
        },
        "id": "RszLjLk4KNQi",
        "outputId": "379a7360-d857-428b-d16d-e75dd994bde0"
      },
      "execution_count": 90,
      "outputs": [
        {
          "output_type": "execute_result",
          "data": {
            "text/plain": [
              "['Mango', 'Apple', 'Banana', 'Pineapple']"
            ]
          },
          "metadata": {},
          "execution_count": 90
        }
      ]
    },
    {
      "cell_type": "code",
      "source": [
        "\n",
        "list3[:2]"
      ],
      "metadata": {
        "colab": {
          "base_uri": "https://localhost:8080/"
        },
        "id": "N9xLTGRfKSbO",
        "outputId": "8f5ae415-fe12-45c0-f37b-b97e0a405f1b"
      },
      "execution_count": 91,
      "outputs": [
        {
          "output_type": "execute_result",
          "data": {
            "text/plain": [
              "['Mango', 'Apple']"
            ]
          },
          "metadata": {},
          "execution_count": 91
        }
      ]
    },
    {
      "cell_type": "code",
      "source": [
        "# Negative indexing: -1 refers to last element\n",
        "list3[-1]"
      ],
      "metadata": {
        "colab": {
          "base_uri": "https://localhost:8080/",
          "height": 36
        },
        "id": "pkGizvAeKVU6",
        "outputId": "865dd7c9-6091-4ab1-c60f-f549cc18908c"
      },
      "execution_count": 92,
      "outputs": [
        {
          "output_type": "execute_result",
          "data": {
            "text/plain": [
              "'Strawberry'"
            ],
            "application/vnd.google.colaboratory.intrinsic+json": {
              "type": "string"
            }
          },
          "metadata": {},
          "execution_count": 92
        }
      ]
    },
    {
      "cell_type": "code",
      "source": [
        "list3[-3]\n"
      ],
      "metadata": {
        "colab": {
          "base_uri": "https://localhost:8080/",
          "height": 36
        },
        "id": "a2v05mIcKalY",
        "outputId": "93bad56d-1a1a-444e-e2b7-0bbf34ad7730"
      },
      "execution_count": 93,
      "outputs": [
        {
          "output_type": "execute_result",
          "data": {
            "text/plain": [
              "'Pineapple'"
            ],
            "application/vnd.google.colaboratory.intrinsic+json": {
              "type": "string"
            }
          },
          "metadata": {},
          "execution_count": 93
        }
      ]
    },
    {
      "cell_type": "code",
      "source": [
        "\n",
        "list3[-6]"
      ],
      "metadata": {
        "colab": {
          "base_uri": "https://localhost:8080/",
          "height": 36
        },
        "id": "IEOeF814Kesx",
        "outputId": "271660c9-6146-4d2f-add4-bb8192757c7c"
      },
      "execution_count": 94,
      "outputs": [
        {
          "output_type": "execute_result",
          "data": {
            "text/plain": [
              "'Mango'"
            ],
            "application/vnd.google.colaboratory.intrinsic+json": {
              "type": "string"
            }
          },
          "metadata": {},
          "execution_count": 94
        }
      ]
    },
    {
      "cell_type": "code",
      "source": [
        "\n",
        "\n",
        "# start stop step in slicing\n",
        "print(list3)\n",
        "list3[::2] # 0,2,4,6\n",
        "     "
      ],
      "metadata": {
        "colab": {
          "base_uri": "https://localhost:8080/"
        },
        "id": "9XDNkbP4KhP_",
        "outputId": "e233ba30-98bf-4631-d19b-f2bba48d2005"
      },
      "execution_count": 95,
      "outputs": [
        {
          "output_type": "stream",
          "name": "stdout",
          "text": [
            "['Mango', 'Apple', 'Banana', 'Pineapple', 'Custard Apple', 'Strawberry']\n"
          ]
        },
        {
          "output_type": "execute_result",
          "data": {
            "text/plain": [
              "['Mango', 'Banana', 'Custard Apple']"
            ]
          },
          "metadata": {},
          "execution_count": 95
        }
      ]
    },
    {
      "cell_type": "code",
      "source": [
        "\n",
        "n1=[1:31] # to create list of 1 to 30 - will raise error\n",
        "     "
      ],
      "metadata": {
        "id": "CJyHmuzSKljh",
        "colab": {
          "base_uri": "https://localhost:8080/",
          "height": 130
        },
        "outputId": "86b67604-b9a2-443c-903f-b45cdab0eb6f"
      },
      "execution_count": 96,
      "outputs": [
        {
          "output_type": "error",
          "ename": "SyntaxError",
          "evalue": "ignored",
          "traceback": [
            "\u001b[0;36m  File \u001b[0;32m\"<ipython-input-96-e700a910f11c>\"\u001b[0;36m, line \u001b[0;32m1\u001b[0m\n\u001b[0;31m    n1=[1:31] # to create list of 1 to 30 - will raise error\u001b[0m\n\u001b[0m         ^\u001b[0m\n\u001b[0;31mSyntaxError\u001b[0m\u001b[0;31m:\u001b[0m invalid syntax\n"
          ]
        }
      ]
    },
    {
      "cell_type": "code",
      "source": [
        "\n",
        "n1=list(range(1,31))\n",
        "print(n1,end=\" \")"
      ],
      "metadata": {
        "colab": {
          "base_uri": "https://localhost:8080/"
        },
        "id": "2_scHZSALXem",
        "outputId": "5fcd7b58-2e1b-4909-b98a-98b8c609980a"
      },
      "execution_count": 97,
      "outputs": [
        {
          "output_type": "stream",
          "name": "stdout",
          "text": [
            "[1, 2, 3, 4, 5, 6, 7, 8, 9, 10, 11, 12, 13, 14, 15, 16, 17, 18, 19, 20, 21, 22, 23, 24, 25, 26, 27, 28, 29, 30] "
          ]
        }
      ]
    },
    {
      "cell_type": "code",
      "source": [
        "n1[::4]"
      ],
      "metadata": {
        "colab": {
          "base_uri": "https://localhost:8080/"
        },
        "id": "3oUIJyzBLfvH",
        "outputId": "0911b35c-57a1-471f-dabe-3eed717b55db"
      },
      "execution_count": 98,
      "outputs": [
        {
          "output_type": "execute_result",
          "data": {
            "text/plain": [
              "[1, 5, 9, 13, 17, 21, 25, 29]"
            ]
          },
          "metadata": {},
          "execution_count": 98
        }
      ]
    },
    {
      "cell_type": "code",
      "source": [
        "n1[0:25:5]"
      ],
      "metadata": {
        "colab": {
          "base_uri": "https://localhost:8080/"
        },
        "id": "FczfAZQvLkLV",
        "outputId": "ce8bcfde-47e0-41e2-8393-f62ba64f06ac"
      },
      "execution_count": 99,
      "outputs": [
        {
          "output_type": "execute_result",
          "data": {
            "text/plain": [
              "[1, 6, 11, 16, 21]"
            ]
          },
          "metadata": {},
          "execution_count": 99
        }
      ]
    },
    {
      "cell_type": "code",
      "source": [
        "# print nos from index 2 to 26 with step value of 5\n",
        "n1[2:26:5]"
      ],
      "metadata": {
        "colab": {
          "base_uri": "https://localhost:8080/"
        },
        "id": "1_uQSl6YLtmt",
        "outputId": "ea88f853-2ac8-42e2-88ee-2e9a98dab0f0"
      },
      "execution_count": 100,
      "outputs": [
        {
          "output_type": "execute_result",
          "data": {
            "text/plain": [
              "[3, 8, 13, 18, 23]"
            ]
          },
          "metadata": {},
          "execution_count": 100
        }
      ]
    },
    {
      "cell_type": "code",
      "source": [
        "print(list3, end=\" \")"
      ],
      "metadata": {
        "colab": {
          "base_uri": "https://localhost:8080/"
        },
        "id": "Sp7ILMr8L0H0",
        "outputId": "f440d781-bc75-45bc-baa3-9f4bab018926"
      },
      "execution_count": 101,
      "outputs": [
        {
          "output_type": "stream",
          "name": "stdout",
          "text": [
            "['Mango', 'Apple', 'Banana', 'Pineapple', 'Custard Apple', 'Strawberry'] "
          ]
        }
      ]
    },
    {
      "cell_type": "code",
      "source": [
        "list3[::-1]"
      ],
      "metadata": {
        "colab": {
          "base_uri": "https://localhost:8080/"
        },
        "id": "what_z59L6i6",
        "outputId": "ec10119d-43a1-41a8-a323-d657db0a6374"
      },
      "execution_count": 102,
      "outputs": [
        {
          "output_type": "execute_result",
          "data": {
            "text/plain": [
              "['Strawberry', 'Custard Apple', 'Pineapple', 'Banana', 'Apple', 'Mango']"
            ]
          },
          "metadata": {},
          "execution_count": 102
        }
      ]
    },
    {
      "cell_type": "code",
      "source": [
        "list3[::-3]"
      ],
      "metadata": {
        "colab": {
          "base_uri": "https://localhost:8080/"
        },
        "id": "mh63QswIMCe2",
        "outputId": "85a142f9-dbca-45b0-b904-d2811c2ed8c8"
      },
      "execution_count": 103,
      "outputs": [
        {
          "output_type": "execute_result",
          "data": {
            "text/plain": [
              "['Strawberry', 'Banana']"
            ]
          },
          "metadata": {},
          "execution_count": 103
        }
      ]
    },
    {
      "cell_type": "code",
      "source": [
        "# use of 'in' keyword: search substring in given word\n",
        "'the' in 'Netherland'"
      ],
      "metadata": {
        "colab": {
          "base_uri": "https://localhost:8080/"
        },
        "id": "gf_R-_MLMJdb",
        "outputId": "9b22b89c-ed00-494f-e298-d771274bfc86"
      },
      "execution_count": 104,
      "outputs": [
        {
          "output_type": "execute_result",
          "data": {
            "text/plain": [
              "True"
            ]
          },
          "metadata": {},
          "execution_count": 104
        }
      ]
    },
    {
      "cell_type": "code",
      "source": [
        "\"Mango\" in list3"
      ],
      "metadata": {
        "colab": {
          "base_uri": "https://localhost:8080/"
        },
        "id": "f-O34XpUMTtq",
        "outputId": "a5ae3012-bb25-4322-894f-aad456ca0fde"
      },
      "execution_count": 105,
      "outputs": [
        {
          "output_type": "execute_result",
          "data": {
            "text/plain": [
              "True"
            ]
          },
          "metadata": {},
          "execution_count": 105
        }
      ]
    },
    {
      "cell_type": "code",
      "source": [
        "'therer' in 'Netherland'"
      ],
      "metadata": {
        "colab": {
          "base_uri": "https://localhost:8080/"
        },
        "id": "q2vX4T5VMXE_",
        "outputId": "a78a6111-2749-4d99-dcdf-f4eb8986355e"
      },
      "execution_count": 106,
      "outputs": [
        {
          "output_type": "execute_result",
          "data": {
            "text/plain": [
              "False"
            ]
          },
          "metadata": {},
          "execution_count": 106
        }
      ]
    },
    {
      "cell_type": "code",
      "source": [
        "list3"
      ],
      "metadata": {
        "colab": {
          "base_uri": "https://localhost:8080/"
        },
        "id": "4TbHc5A1Mbag",
        "outputId": "27140690-181b-4977-b6ac-791acbb1465d"
      },
      "execution_count": 107,
      "outputs": [
        {
          "output_type": "execute_result",
          "data": {
            "text/plain": [
              "['Mango', 'Apple', 'Banana', 'Pineapple', 'Custard Apple', 'Strawberry']"
            ]
          },
          "metadata": {},
          "execution_count": 107
        }
      ]
    },
    {
      "cell_type": "code",
      "source": [
        "list3.append(\"Mulberry\")"
      ],
      "metadata": {
        "id": "IpsviuGCMclL"
      },
      "execution_count": 108,
      "outputs": []
    },
    {
      "cell_type": "code",
      "source": [
        "list3"
      ],
      "metadata": {
        "colab": {
          "base_uri": "https://localhost:8080/"
        },
        "id": "y5tIU3ZkMgY3",
        "outputId": "225c29c6-8323-4db5-990a-347feaa5909e"
      },
      "execution_count": 109,
      "outputs": [
        {
          "output_type": "execute_result",
          "data": {
            "text/plain": [
              "['Mango',\n",
              " 'Apple',\n",
              " 'Banana',\n",
              " 'Pineapple',\n",
              " 'Custard Apple',\n",
              " 'Strawberry',\n",
              " 'Mulberry']"
            ]
          },
          "metadata": {},
          "execution_count": 109
        }
      ]
    },
    {
      "cell_type": "code",
      "source": [
        "# display fruits which contain substring as 'berry' using for loop\n",
        "for fruit in list3:\n",
        "  if 'berry' in fruit:\n",
        "    print(fruit)"
      ],
      "metadata": {
        "colab": {
          "base_uri": "https://localhost:8080/"
        },
        "id": "lRVhBzwoMh2S",
        "outputId": "16119a68-11d2-45d8-b3a3-501879d6913b"
      },
      "execution_count": 110,
      "outputs": [
        {
          "output_type": "stream",
          "name": "stdout",
          "text": [
            "Strawberry\n",
            "Mulberry\n"
          ]
        }
      ]
    },
    {
      "cell_type": "code",
      "source": [
        "# display fruits which contain substring as 'pple' using for loop\n",
        "for fruit in list3:\n",
        "  if 'pple' in fruit:\n",
        "    print(fruit)"
      ],
      "metadata": {
        "colab": {
          "base_uri": "https://localhost:8080/"
        },
        "id": "YNvwwhPpMn8p",
        "outputId": "9d22b0ec-c672-464c-a24d-1acb80d19c45"
      },
      "execution_count": 111,
      "outputs": [
        {
          "output_type": "stream",
          "name": "stdout",
          "text": [
            "Apple\n",
            "Pineapple\n",
            "Custard Apple\n"
          ]
        }
      ]
    },
    {
      "cell_type": "code",
      "source": [
        "list3.append(\"Black berry\")\n",
        "     "
      ],
      "metadata": {
        "id": "4qHkruJKMruS"
      },
      "execution_count": 112,
      "outputs": []
    },
    {
      "cell_type": "code",
      "source": [
        "list3"
      ],
      "metadata": {
        "colab": {
          "base_uri": "https://localhost:8080/"
        },
        "id": "x--ncjjhMu8m",
        "outputId": "6179fe37-7aa0-435c-a1fb-88b9d21c84fe"
      },
      "execution_count": 113,
      "outputs": [
        {
          "output_type": "execute_result",
          "data": {
            "text/plain": [
              "['Mango',\n",
              " 'Apple',\n",
              " 'Banana',\n",
              " 'Pineapple',\n",
              " 'Custard Apple',\n",
              " 'Strawberry',\n",
              " 'Mulberry',\n",
              " 'Black berry']"
            ]
          },
          "metadata": {},
          "execution_count": 113
        }
      ]
    },
    {
      "cell_type": "code",
      "source": [
        "# Create list4 of fruits from list3 having only 'berry' as substring and store remaining fruits in list5\n",
        "list4=[]\n",
        "list5=[]\n",
        "for fruit in list3:\n",
        "  if 'berry' in fruit:\n",
        "    list4.append(fruit)\n",
        "  else:\n",
        "    list5.append(fruit)   \n",
        "print(list4,end=\" \")\n",
        "print(list5,end=\" \")\n",
        "     "
      ],
      "metadata": {
        "colab": {
          "base_uri": "https://localhost:8080/"
        },
        "id": "lahxIThQNntF",
        "outputId": "a5e5b813-9966-4d98-f340-8d1b34778553"
      },
      "execution_count": 114,
      "outputs": [
        {
          "output_type": "stream",
          "name": "stdout",
          "text": [
            "['Strawberry', 'Mulberry', 'Black berry'] ['Mango', 'Apple', 'Banana', 'Pineapple', 'Custard Apple'] "
          ]
        }
      ]
    },
    {
      "cell_type": "code",
      "source": [
        "# print squares of all numbers of list1 to list2\n",
        "l1=[2,3,4,5,6]\n",
        "l2=[]\n",
        "for i in l1:\n",
        "  l2.append(i**2)\n",
        "print(l1,end=\" \")  \n",
        "print(l2,end=\" \")"
      ],
      "metadata": {
        "colab": {
          "base_uri": "https://localhost:8080/"
        },
        "id": "mThceQmlNrNf",
        "outputId": "be17079e-82f3-4bc7-88ff-06b47b75ab12"
      },
      "execution_count": 115,
      "outputs": [
        {
          "output_type": "stream",
          "name": "stdout",
          "text": [
            "[2, 3, 4, 5, 6] [4, 9, 16, 25, 36] "
          ]
        }
      ]
    },
    {
      "cell_type": "code",
      "source": [
        "# List comprehension - makes your code compact\n",
        "l1=[2,3,4,5,6]\n",
        "l2=[i**2 for i in l1]\n",
        "print(l1,end=\" \") \n",
        "print(l2,end=\" \")\n",
        "     "
      ],
      "metadata": {
        "colab": {
          "base_uri": "https://localhost:8080/"
        },
        "id": "9WquOolRNzzQ",
        "outputId": "854ca43e-ab41-4370-9c79-4e677a4202ed"
      },
      "execution_count": 116,
      "outputs": [
        {
          "output_type": "stream",
          "name": "stdout",
          "text": [
            "[2, 3, 4, 5, 6] [4, 9, 16, 25, 36] "
          ]
        }
      ]
    },
    {
      "cell_type": "code",
      "source": [
        "list3\n",
        "list3.append(\"Black berry\")\n",
        "     \n"
      ],
      "metadata": {
        "id": "cwfrPSr4Vxjr"
      },
      "execution_count": 117,
      "outputs": []
    },
    {
      "cell_type": "code",
      "source": [
        "# extract fruit names containing substring 'berry' using List comprehension\n",
        "list3\n",
        "     "
      ],
      "metadata": {
        "colab": {
          "base_uri": "https://localhost:8080/"
        },
        "id": "u1_l9_3QV1e9",
        "outputId": "bc4e6b60-668c-4bca-b2d3-62f694ca4c45"
      },
      "execution_count": 118,
      "outputs": [
        {
          "output_type": "execute_result",
          "data": {
            "text/plain": [
              "['Mango',\n",
              " 'Apple',\n",
              " 'Banana',\n",
              " 'Pineapple',\n",
              " 'Custard Apple',\n",
              " 'Strawberry',\n",
              " 'Mulberry',\n",
              " 'Black berry',\n",
              " 'Black berry']"
            ]
          },
          "metadata": {},
          "execution_count": 118
        }
      ]
    },
    {
      "cell_type": "code",
      "source": [
        "list3.remove(\"Black berry\")"
      ],
      "metadata": {
        "id": "WKbRdHxDV5-s"
      },
      "execution_count": 119,
      "outputs": []
    },
    {
      "cell_type": "code",
      "source": [
        "list3"
      ],
      "metadata": {
        "colab": {
          "base_uri": "https://localhost:8080/"
        },
        "id": "BnOAmCdQWCUN",
        "outputId": "bc8878f8-25bb-4342-e61b-768a34a2f807"
      },
      "execution_count": 120,
      "outputs": [
        {
          "output_type": "execute_result",
          "data": {
            "text/plain": [
              "['Mango',\n",
              " 'Apple',\n",
              " 'Banana',\n",
              " 'Pineapple',\n",
              " 'Custard Apple',\n",
              " 'Strawberry',\n",
              " 'Mulberry',\n",
              " 'Black berry']"
            ]
          },
          "metadata": {},
          "execution_count": 120
        }
      ]
    },
    {
      "cell_type": "code",
      "source": [
        "newlist=[fruit for fruit in list3 if 'berry' in fruit]"
      ],
      "metadata": {
        "id": "PuX9183tWgzN"
      },
      "execution_count": 121,
      "outputs": []
    },
    {
      "cell_type": "code",
      "source": [
        "print(newlist, end=\" \")"
      ],
      "metadata": {
        "colab": {
          "base_uri": "https://localhost:8080/"
        },
        "id": "9tRTEusLWlBJ",
        "outputId": "859b0f84-3707-4952-9a4b-382711fc4f68"
      },
      "execution_count": 122,
      "outputs": [
        {
          "output_type": "stream",
          "name": "stdout",
          "text": [
            "['Strawberry', 'Mulberry', 'Black berry'] "
          ]
        }
      ]
    },
    {
      "cell_type": "code",
      "source": [
        "newlist1=[fruit for fruit in list3 if 'berry' not in fruit]\n",
        "     "
      ],
      "metadata": {
        "id": "IKXJqZPTWoNN"
      },
      "execution_count": 123,
      "outputs": []
    },
    {
      "cell_type": "code",
      "source": [
        "print(newlist1,end=\" \")"
      ],
      "metadata": {
        "colab": {
          "base_uri": "https://localhost:8080/"
        },
        "id": "ebuiyyOxWsNL",
        "outputId": "ad5d5e3c-b448-41bd-bd6d-b405a61e58a5"
      },
      "execution_count": 124,
      "outputs": [
        {
          "output_type": "stream",
          "name": "stdout",
          "text": [
            "['Mango', 'Apple', 'Banana', 'Pineapple', 'Custard Apple'] "
          ]
        }
      ]
    },
    {
      "cell_type": "code",
      "source": [
        "list3"
      ],
      "metadata": {
        "colab": {
          "base_uri": "https://localhost:8080/"
        },
        "id": "T541794WWxox",
        "outputId": "e549532a-84d4-491c-a167-557ac1244291"
      },
      "execution_count": 125,
      "outputs": [
        {
          "output_type": "execute_result",
          "data": {
            "text/plain": [
              "['Mango',\n",
              " 'Apple',\n",
              " 'Banana',\n",
              " 'Pineapple',\n",
              " 'Custard Apple',\n",
              " 'Strawberry',\n",
              " 'Mulberry',\n",
              " 'Black berry']"
            ]
          },
          "metadata": {},
          "execution_count": 125
        }
      ]
    },
    {
      "cell_type": "code",
      "source": [
        "list3.index('Mango')\n",
        "     "
      ],
      "metadata": {
        "colab": {
          "base_uri": "https://localhost:8080/"
        },
        "id": "_-gPNVuAW5DH",
        "outputId": "648ca404-9ee9-4273-c2db-404a396d0f02"
      },
      "execution_count": 126,
      "outputs": [
        {
          "output_type": "execute_result",
          "data": {
            "text/plain": [
              "0"
            ]
          },
          "metadata": {},
          "execution_count": 126
        }
      ]
    },
    {
      "cell_type": "code",
      "source": [
        "list3.index(\"Mulberry\")"
      ],
      "metadata": {
        "colab": {
          "base_uri": "https://localhost:8080/"
        },
        "id": "_dRjfLX1W8aU",
        "outputId": "544472b7-b42e-47a5-c3a9-a087c0264b4a"
      },
      "execution_count": 127,
      "outputs": [
        {
          "output_type": "execute_result",
          "data": {
            "text/plain": [
              "6"
            ]
          },
          "metadata": {},
          "execution_count": 127
        }
      ]
    },
    {
      "cell_type": "code",
      "source": [
        "list3[:5]"
      ],
      "metadata": {
        "colab": {
          "base_uri": "https://localhost:8080/"
        },
        "id": "08yC11SSW_w1",
        "outputId": "e940e467-68f7-4e98-e74b-df77f3208764"
      },
      "execution_count": 128,
      "outputs": [
        {
          "output_type": "execute_result",
          "data": {
            "text/plain": [
              "['Mango', 'Apple', 'Banana', 'Pineapple', 'Custard Apple']"
            ]
          },
          "metadata": {},
          "execution_count": 128
        }
      ]
    },
    {
      "cell_type": "code",
      "source": [
        "list3.index('Black berry')"
      ],
      "metadata": {
        "colab": {
          "base_uri": "https://localhost:8080/"
        },
        "id": "j8IcXio7XHmO",
        "outputId": "7c176e82-da89-49be-ad1b-4707d07438fa"
      },
      "execution_count": 129,
      "outputs": [
        {
          "output_type": "execute_result",
          "data": {
            "text/plain": [
              "7"
            ]
          },
          "metadata": {},
          "execution_count": 129
        }
      ]
    },
    {
      "cell_type": "code",
      "source": [
        "list3.index('Orange') # will raise error as item is not present in the list"
      ],
      "metadata": {
        "id": "mlqles2ZXLdO",
        "colab": {
          "base_uri": "https://localhost:8080/",
          "height": 165
        },
        "outputId": "90b07ce5-cd97-41f7-fa9f-5111e4b4041a"
      },
      "execution_count": 130,
      "outputs": [
        {
          "output_type": "error",
          "ename": "ValueError",
          "evalue": "ignored",
          "traceback": [
            "\u001b[0;31m---------------------------------------------------------------------------\u001b[0m",
            "\u001b[0;31mValueError\u001b[0m                                Traceback (most recent call last)",
            "\u001b[0;32m<ipython-input-130-4baf18b3f385>\u001b[0m in \u001b[0;36m<cell line: 1>\u001b[0;34m()\u001b[0m\n\u001b[0;32m----> 1\u001b[0;31m \u001b[0mlist3\u001b[0m\u001b[0;34m.\u001b[0m\u001b[0mindex\u001b[0m\u001b[0;34m(\u001b[0m\u001b[0;34m'Orange'\u001b[0m\u001b[0;34m)\u001b[0m \u001b[0;31m# will raise error as item is not present in the list\u001b[0m\u001b[0;34m\u001b[0m\u001b[0;34m\u001b[0m\u001b[0m\n\u001b[0m",
            "\u001b[0;31mValueError\u001b[0m: 'Orange' is not in list"
          ]
        }
      ]
    },
    {
      "cell_type": "code",
      "source": [
        "# index 2 item was banana which is replaced by Orange\n",
        "# Lists are mutable - you can replace items of list\n",
        "list3[2]=\"Orange\"\n",
        "list3"
      ],
      "metadata": {
        "colab": {
          "base_uri": "https://localhost:8080/"
        },
        "id": "kdcLsHAfXPM7",
        "outputId": "4f60a994-df1e-4b87-897d-427cb6c7b7d2"
      },
      "execution_count": 131,
      "outputs": [
        {
          "output_type": "execute_result",
          "data": {
            "text/plain": [
              "['Mango',\n",
              " 'Apple',\n",
              " 'Orange',\n",
              " 'Pineapple',\n",
              " 'Custard Apple',\n",
              " 'Strawberry',\n",
              " 'Mulberry',\n",
              " 'Black berry']"
            ]
          },
          "metadata": {},
          "execution_count": 131
        }
      ]
    },
    {
      "cell_type": "code",
      "source": [
        "list3[5]=\"Chiku\""
      ],
      "metadata": {
        "id": "AddbYos5XUxw"
      },
      "execution_count": 132,
      "outputs": []
    },
    {
      "cell_type": "code",
      "source": [
        "list3"
      ],
      "metadata": {
        "colab": {
          "base_uri": "https://localhost:8080/"
        },
        "id": "kUInGJPKXbhK",
        "outputId": "081049aa-7138-435e-ae6e-a3f4215cf351"
      },
      "execution_count": 133,
      "outputs": [
        {
          "output_type": "execute_result",
          "data": {
            "text/plain": [
              "['Mango',\n",
              " 'Apple',\n",
              " 'Orange',\n",
              " 'Pineapple',\n",
              " 'Custard Apple',\n",
              " 'Chiku',\n",
              " 'Mulberry',\n",
              " 'Black berry']"
            ]
          },
          "metadata": {},
          "execution_count": 133
        }
      ]
    },
    {
      "cell_type": "code",
      "source": [
        "# Data Structure: 2.TUPLE\n",
        "# Tuples are not mutable i.e. immutable\n",
        "# created using round brackets ()\n",
        "t1=(1,2,3,4,5)\n",
        "t1"
      ],
      "metadata": {
        "colab": {
          "base_uri": "https://localhost:8080/"
        },
        "id": "BtPhS0hMXcsX",
        "outputId": "83603051-231b-4e0a-e2b5-f36fa81630b0"
      },
      "execution_count": 134,
      "outputs": [
        {
          "output_type": "execute_result",
          "data": {
            "text/plain": [
              "(1, 2, 3, 4, 5)"
            ]
          },
          "metadata": {},
          "execution_count": 134
        }
      ]
    },
    {
      "cell_type": "code",
      "source": [
        "type(t1)"
      ],
      "metadata": {
        "colab": {
          "base_uri": "https://localhost:8080/"
        },
        "id": "GhbkUfSaXkB4",
        "outputId": "1f2425f2-1934-4e2b-962c-4fd9b26079c1"
      },
      "execution_count": 135,
      "outputs": [
        {
          "output_type": "execute_result",
          "data": {
            "text/plain": [
              "tuple"
            ]
          },
          "metadata": {},
          "execution_count": 135
        }
      ]
    },
    {
      "cell_type": "code",
      "source": [
        "t1[0]"
      ],
      "metadata": {
        "colab": {
          "base_uri": "https://localhost:8080/"
        },
        "id": "m0GX5gOuXm9e",
        "outputId": "78b69ee9-1206-4f05-c488-737a85610dcc"
      },
      "execution_count": 136,
      "outputs": [
        {
          "output_type": "execute_result",
          "data": {
            "text/plain": [
              "1"
            ]
          },
          "metadata": {},
          "execution_count": 136
        }
      ]
    },
    {
      "cell_type": "code",
      "source": [
        "t1[0]=7 #'tuple' object does not support item assignment"
      ],
      "metadata": {
        "id": "sTrtREC2Xo87",
        "colab": {
          "base_uri": "https://localhost:8080/",
          "height": 165
        },
        "outputId": "563b7cdd-e2ad-4b34-b8e0-5056e0362a64"
      },
      "execution_count": 137,
      "outputs": [
        {
          "output_type": "error",
          "ename": "TypeError",
          "evalue": "ignored",
          "traceback": [
            "\u001b[0;31m---------------------------------------------------------------------------\u001b[0m",
            "\u001b[0;31mTypeError\u001b[0m                                 Traceback (most recent call last)",
            "\u001b[0;32m<ipython-input-137-bbc9228d7418>\u001b[0m in \u001b[0;36m<cell line: 1>\u001b[0;34m()\u001b[0m\n\u001b[0;32m----> 1\u001b[0;31m \u001b[0mt1\u001b[0m\u001b[0;34m[\u001b[0m\u001b[0;36m0\u001b[0m\u001b[0;34m]\u001b[0m\u001b[0;34m=\u001b[0m\u001b[0;36m7\u001b[0m \u001b[0;31m#'tuple' object does not support item assignment\u001b[0m\u001b[0;34m\u001b[0m\u001b[0;34m\u001b[0m\u001b[0m\n\u001b[0m",
            "\u001b[0;31mTypeError\u001b[0m: 'tuple' object does not support item assignment"
          ]
        }
      ]
    },
    {
      "cell_type": "code",
      "source": [
        "dir(t1)"
      ],
      "metadata": {
        "colab": {
          "base_uri": "https://localhost:8080/"
        },
        "id": "dCKjDkSfYLTL",
        "outputId": "7ca9e23e-af8b-4448-fe59-e12f99e94490"
      },
      "execution_count": 138,
      "outputs": [
        {
          "output_type": "execute_result",
          "data": {
            "text/plain": [
              "['__add__',\n",
              " '__class__',\n",
              " '__class_getitem__',\n",
              " '__contains__',\n",
              " '__delattr__',\n",
              " '__dir__',\n",
              " '__doc__',\n",
              " '__eq__',\n",
              " '__format__',\n",
              " '__ge__',\n",
              " '__getattribute__',\n",
              " '__getitem__',\n",
              " '__getnewargs__',\n",
              " '__gt__',\n",
              " '__hash__',\n",
              " '__init__',\n",
              " '__init_subclass__',\n",
              " '__iter__',\n",
              " '__le__',\n",
              " '__len__',\n",
              " '__lt__',\n",
              " '__mul__',\n",
              " '__ne__',\n",
              " '__new__',\n",
              " '__reduce__',\n",
              " '__reduce_ex__',\n",
              " '__repr__',\n",
              " '__rmul__',\n",
              " '__setattr__',\n",
              " '__sizeof__',\n",
              " '__str__',\n",
              " '__subclasshook__',\n",
              " 'count',\n",
              " 'index']"
            ]
          },
          "metadata": {},
          "execution_count": 138
        }
      ]
    },
    {
      "cell_type": "code",
      "source": [
        "t1.count(1)"
      ],
      "metadata": {
        "colab": {
          "base_uri": "https://localhost:8080/"
        },
        "id": "r5q4xmigYcNw",
        "outputId": "9a6d99bd-e05f-4562-ccf1-88d36963003a"
      },
      "execution_count": 139,
      "outputs": [
        {
          "output_type": "execute_result",
          "data": {
            "text/plain": [
              "1"
            ]
          },
          "metadata": {},
          "execution_count": 139
        }
      ]
    },
    {
      "cell_type": "code",
      "source": [
        "t1.index(4)"
      ],
      "metadata": {
        "colab": {
          "base_uri": "https://localhost:8080/"
        },
        "id": "qsm-IY-dYgB1",
        "outputId": "8e16948c-0934-48d5-b82b-7393e922266e"
      },
      "execution_count": 140,
      "outputs": [
        {
          "output_type": "execute_result",
          "data": {
            "text/plain": [
              "3"
            ]
          },
          "metadata": {},
          "execution_count": 140
        }
      ]
    },
    {
      "cell_type": "code",
      "source": [
        "t2=(1,1,1,2,2,6,6,6,6,6)\n",
        "t2.count(6)"
      ],
      "metadata": {
        "id": "HhAsJdnjYjGb",
        "outputId": "3c0e7109-b04a-4433-ec81-38deb4dac86a",
        "colab": {
          "base_uri": "https://localhost:8080/"
        }
      },
      "execution_count": 141,
      "outputs": [
        {
          "output_type": "execute_result",
          "data": {
            "text/plain": [
              "5"
            ]
          },
          "metadata": {},
          "execution_count": 141
        }
      ]
    },
    {
      "cell_type": "code",
      "source": [
        "# indexing and slicing with tuple is same as list\n",
        "# extracting elements of tuple\n",
        "t1[2]"
      ],
      "metadata": {
        "id": "DPiW4WlmYpFL",
        "colab": {
          "base_uri": "https://localhost:8080/"
        },
        "outputId": "a3cd8e2d-b5ed-431f-979c-3b8b1b7434cd"
      },
      "execution_count": 142,
      "outputs": [
        {
          "output_type": "execute_result",
          "data": {
            "text/plain": [
              "3"
            ]
          },
          "metadata": {},
          "execution_count": 142
        }
      ]
    },
    {
      "cell_type": "code",
      "source": [
        "t1"
      ],
      "metadata": {
        "colab": {
          "base_uri": "https://localhost:8080/"
        },
        "id": "3g2nKfq827NR",
        "outputId": "07ded4f2-ce65-4b9d-cf83-7c4c941284bc"
      },
      "execution_count": 143,
      "outputs": [
        {
          "output_type": "execute_result",
          "data": {
            "text/plain": [
              "(1, 2, 3, 4, 5)"
            ]
          },
          "metadata": {},
          "execution_count": 143
        }
      ]
    },
    {
      "cell_type": "code",
      "source": [
        "t1[1:5]"
      ],
      "metadata": {
        "colab": {
          "base_uri": "https://localhost:8080/"
        },
        "id": "wfgjaQuE2_ta",
        "outputId": "ee828e15-e197-42f6-f293-f1baa48d57ab"
      },
      "execution_count": 144,
      "outputs": [
        {
          "output_type": "execute_result",
          "data": {
            "text/plain": [
              "(2, 3, 4, 5)"
            ]
          },
          "metadata": {},
          "execution_count": 144
        }
      ]
    },
    {
      "cell_type": "code",
      "source": [
        "# Data Structure: 3.Dictionary\n",
        "# Dictionaries are used to store data values in \"key:value pairs\".\n",
        "# A dictionary is a collection which is ordered, changeable and do not allow duplicates.\n",
        "# Dictionaries are written with curly brackets {\"Key\":\"Value\"}, and have keys and values. \n",
        "# Here, keys are unique identifiers that are associated with each value.:\n",
        "\n",
        "capital_dict={\"Nepal\": \"Kathmandu\", \"Italy\": \"Rome\", \"England\": \"London\"}\n",
        "print(capital_dict)"
      ],
      "metadata": {
        "colab": {
          "base_uri": "https://localhost:8080/"
        },
        "id": "MrQL7FHT3DHi",
        "outputId": "c9521218-7c4c-4f6e-f308-fd5f4504c2fa"
      },
      "execution_count": 145,
      "outputs": [
        {
          "output_type": "stream",
          "name": "stdout",
          "text": [
            "{'Nepal': 'Kathmandu', 'Italy': 'Rome', 'England': 'London'}\n"
          ]
        }
      ]
    },
    {
      "cell_type": "code",
      "source": [
        "type(capital_dict)"
      ],
      "metadata": {
        "colab": {
          "base_uri": "https://localhost:8080/"
        },
        "id": "Totkk80C3Icm",
        "outputId": "d515a984-f480-4991-c2ec-860aed55e00c"
      },
      "execution_count": 146,
      "outputs": [
        {
          "output_type": "execute_result",
          "data": {
            "text/plain": [
              "dict"
            ]
          },
          "metadata": {},
          "execution_count": 146
        }
      ]
    },
    {
      "cell_type": "code",
      "source": [
        "dir(capital_dict)"
      ],
      "metadata": {
        "colab": {
          "base_uri": "https://localhost:8080/"
        },
        "id": "5_vtpoCT3OYT",
        "outputId": "c770d7ba-8cee-4bcc-c6ab-b2a14179d465"
      },
      "execution_count": 147,
      "outputs": [
        {
          "output_type": "execute_result",
          "data": {
            "text/plain": [
              "['__class__',\n",
              " '__class_getitem__',\n",
              " '__contains__',\n",
              " '__delattr__',\n",
              " '__delitem__',\n",
              " '__dir__',\n",
              " '__doc__',\n",
              " '__eq__',\n",
              " '__format__',\n",
              " '__ge__',\n",
              " '__getattribute__',\n",
              " '__getitem__',\n",
              " '__gt__',\n",
              " '__hash__',\n",
              " '__init__',\n",
              " '__init_subclass__',\n",
              " '__ior__',\n",
              " '__iter__',\n",
              " '__le__',\n",
              " '__len__',\n",
              " '__lt__',\n",
              " '__ne__',\n",
              " '__new__',\n",
              " '__or__',\n",
              " '__reduce__',\n",
              " '__reduce_ex__',\n",
              " '__repr__',\n",
              " '__reversed__',\n",
              " '__ror__',\n",
              " '__setattr__',\n",
              " '__setitem__',\n",
              " '__sizeof__',\n",
              " '__str__',\n",
              " '__subclasshook__',\n",
              " 'clear',\n",
              " 'copy',\n",
              " 'fromkeys',\n",
              " 'get',\n",
              " 'items',\n",
              " 'keys',\n",
              " 'pop',\n",
              " 'popitem',\n",
              " 'setdefault',\n",
              " 'update',\n",
              " 'values']"
            ]
          },
          "metadata": {},
          "execution_count": 147
        }
      ]
    },
    {
      "cell_type": "code",
      "source": [
        "# access element of dictionary\n",
        "capital_dict[\"England\"]"
      ],
      "metadata": {
        "colab": {
          "base_uri": "https://localhost:8080/",
          "height": 36
        },
        "id": "NM1O3bbQ3So1",
        "outputId": "491757e7-4a1f-4e0b-9749-a08a9658bf24"
      },
      "execution_count": 148,
      "outputs": [
        {
          "output_type": "execute_result",
          "data": {
            "text/plain": [
              "'London'"
            ],
            "application/vnd.google.colaboratory.intrinsic+json": {
              "type": "string"
            }
          },
          "metadata": {},
          "execution_count": 148
        }
      ]
    },
    {
      "cell_type": "code",
      "source": [
        "capital_dict[\"Nepal\"]"
      ],
      "metadata": {
        "colab": {
          "base_uri": "https://localhost:8080/",
          "height": 36
        },
        "id": "9MdkSJ093X8c",
        "outputId": "68e2cd5e-d84e-4722-d111-7858628e2c40"
      },
      "execution_count": 150,
      "outputs": [
        {
          "output_type": "execute_result",
          "data": {
            "text/plain": [
              "'Kathmandu'"
            ],
            "application/vnd.google.colaboratory.intrinsic+json": {
              "type": "string"
            }
          },
          "metadata": {},
          "execution_count": 150
        }
      ]
    },
    {
      "cell_type": "code",
      "source": [
        "# keys() method extracts the keys of the dictionary and returns the list of keys as a view object.\n",
        "keys=capital_dict.keys()\n",
        "keys"
      ],
      "metadata": {
        "colab": {
          "base_uri": "https://localhost:8080/"
        },
        "id": "sY4gjB633dlB",
        "outputId": "dc01cd72-03d3-4b25-9679-1de991f849b0"
      },
      "execution_count": 151,
      "outputs": [
        {
          "output_type": "execute_result",
          "data": {
            "text/plain": [
              "dict_keys(['Nepal', 'Italy', 'England'])"
            ]
          },
          "metadata": {},
          "execution_count": 151
        }
      ]
    },
    {
      "cell_type": "code",
      "source": [
        "capital_dict.keys()"
      ],
      "metadata": {
        "colab": {
          "base_uri": "https://localhost:8080/"
        },
        "id": "0gDCbp923lIH",
        "outputId": "69e104ff-f38c-440e-d747-3665688186b3"
      },
      "execution_count": 152,
      "outputs": [
        {
          "output_type": "execute_result",
          "data": {
            "text/plain": [
              "dict_keys(['Nepal', 'Italy', 'England'])"
            ]
          },
          "metadata": {},
          "execution_count": 152
        }
      ]
    },
    {
      "cell_type": "code",
      "source": [
        "# The values() method returns a view object that displays a list of all the values in the dictionary.\n",
        "values=capital_dict.values()\n",
        "values"
      ],
      "metadata": {
        "colab": {
          "base_uri": "https://localhost:8080/"
        },
        "id": "p1c0mB_t3q8K",
        "outputId": "c59a1a7a-1d77-4d5c-e6ff-e72c285d74a1"
      },
      "execution_count": 153,
      "outputs": [
        {
          "output_type": "execute_result",
          "data": {
            "text/plain": [
              "dict_values(['Kathmandu', 'Rome', 'London'])"
            ]
          },
          "metadata": {},
          "execution_count": 153
        }
      ]
    },
    {
      "cell_type": "code",
      "source": [
        "capital_dict.values()"
      ],
      "metadata": {
        "colab": {
          "base_uri": "https://localhost:8080/"
        },
        "id": "BGApTcsA3urx",
        "outputId": "91d55587-ce7b-44c9-a0a3-b59f2c0ed6aa"
      },
      "execution_count": 154,
      "outputs": [
        {
          "output_type": "execute_result",
          "data": {
            "text/plain": [
              "dict_values(['Kathmandu', 'Rome', 'London'])"
            ]
          },
          "metadata": {},
          "execution_count": 154
        }
      ]
    },
    {
      "cell_type": "code",
      "source": [
        "# The items() method returns a view object that displays a list of dictionary's (key, value) tuple pairs.\n",
        "items=capital_dict.items()\n",
        "items"
      ],
      "metadata": {
        "colab": {
          "base_uri": "https://localhost:8080/"
        },
        "id": "7nCaF3843yPl",
        "outputId": "3713bcad-efd6-47b7-efbb-70d2906b2f14"
      },
      "execution_count": 155,
      "outputs": [
        {
          "output_type": "execute_result",
          "data": {
            "text/plain": [
              "dict_items([('Nepal', 'Kathmandu'), ('Italy', 'Rome'), ('England', 'London')])"
            ]
          },
          "metadata": {},
          "execution_count": 155
        }
      ]
    },
    {
      "cell_type": "code",
      "source": [
        "capital_dict.items()"
      ],
      "metadata": {
        "colab": {
          "base_uri": "https://localhost:8080/"
        },
        "id": "Vb8w02mx32fS",
        "outputId": "64d17a43-9be8-4ee5-90d3-d160a8fbce4d"
      },
      "execution_count": 157,
      "outputs": [
        {
          "output_type": "execute_result",
          "data": {
            "text/plain": [
              "dict_items([('Nepal', 'Kathmandu'), ('Italy', 'Rome'), ('England', 'London')])"
            ]
          },
          "metadata": {},
          "execution_count": 157
        }
      ]
    },
    {
      "cell_type": "code",
      "source": [
        "# The update() method updates the dictionary with the elements from another dictionary object or from an iterable of key/value pairs.\n",
        "add_capital={\"India\": \"New Delhi\",\"abc\":\"xyz\"}\n",
        "capital_dict.update(add_capital)"
      ],
      "metadata": {
        "id": "zsBWFYGu38Ng"
      },
      "execution_count": 158,
      "outputs": []
    },
    {
      "cell_type": "code",
      "source": [
        "capital_dict"
      ],
      "metadata": {
        "colab": {
          "base_uri": "https://localhost:8080/"
        },
        "id": "y8uS_L0v4DR8",
        "outputId": "77467837-e55b-42e6-8ad4-ceddfb263711"
      },
      "execution_count": 160,
      "outputs": [
        {
          "output_type": "execute_result",
          "data": {
            "text/plain": [
              "{'Nepal': 'Kathmandu',\n",
              " 'Italy': 'Rome',\n",
              " 'England': 'London',\n",
              " 'India': 'New Delhi',\n",
              " 'abc': 'xyz'}"
            ]
          },
          "metadata": {},
          "execution_count": 160
        }
      ]
    },
    {
      "cell_type": "code",
      "source": [
        "capital_dict.update({\"Australia\":\"Sydney\"}) # capital of Australia is Canberra\n",
        "capital_dict"
      ],
      "metadata": {
        "colab": {
          "base_uri": "https://localhost:8080/"
        },
        "id": "wjPwGhgu4Hmk",
        "outputId": "ec65ee58-e1d6-4293-cd3c-1f00a287cbeb"
      },
      "execution_count": 161,
      "outputs": [
        {
          "output_type": "execute_result",
          "data": {
            "text/plain": [
              "{'Nepal': 'Kathmandu',\n",
              " 'Italy': 'Rome',\n",
              " 'England': 'London',\n",
              " 'India': 'New Delhi',\n",
              " 'abc': 'xyz',\n",
              " 'Australia': 'Sydney'}"
            ]
          },
          "metadata": {},
          "execution_count": 161
        }
      ]
    },
    {
      "cell_type": "code",
      "source": [
        "# The pop() method removes and returns an element from a dictionary having the given key.\n",
        "capital_dict.pop(\"Australia\")"
      ],
      "metadata": {
        "colab": {
          "base_uri": "https://localhost:8080/",
          "height": 36
        },
        "id": "qWVDoVa24ON5",
        "outputId": "e630c446-21f7-4b06-f32c-9c4b2c801864"
      },
      "execution_count": 162,
      "outputs": [
        {
          "output_type": "execute_result",
          "data": {
            "text/plain": [
              "'Sydney'"
            ],
            "application/vnd.google.colaboratory.intrinsic+json": {
              "type": "string"
            }
          },
          "metadata": {},
          "execution_count": 162
        }
      ]
    },
    {
      "cell_type": "code",
      "source": [
        "capital_dict"
      ],
      "metadata": {
        "colab": {
          "base_uri": "https://localhost:8080/"
        },
        "id": "SpmDWvSC4T1j",
        "outputId": "0546e021-17e4-4095-c350-aaa034350c74"
      },
      "execution_count": 163,
      "outputs": [
        {
          "output_type": "execute_result",
          "data": {
            "text/plain": [
              "{'Nepal': 'Kathmandu',\n",
              " 'Italy': 'Rome',\n",
              " 'England': 'London',\n",
              " 'India': 'New Delhi',\n",
              " 'abc': 'xyz'}"
            ]
          },
          "metadata": {},
          "execution_count": 163
        }
      ]
    },
    {
      "cell_type": "code",
      "source": [
        "capital_dict['abc']=(\"Mumbai\")"
      ],
      "metadata": {
        "id": "cWjdOZk84T41"
      },
      "execution_count": 164,
      "outputs": []
    },
    {
      "cell_type": "code",
      "source": [
        "capital_dict[\"Virat\"]=(\"kohali\")"
      ],
      "metadata": {
        "id": "HmhzKwGz4T8j"
      },
      "execution_count": 165,
      "outputs": []
    },
    {
      "cell_type": "code",
      "source": [
        "capital_dict"
      ],
      "metadata": {
        "colab": {
          "base_uri": "https://localhost:8080/"
        },
        "id": "4g_xqw7W4T_z",
        "outputId": "8f291c94-0c55-4543-9ec5-310d67d865b0"
      },
      "execution_count": 166,
      "outputs": [
        {
          "output_type": "execute_result",
          "data": {
            "text/plain": [
              "{'Nepal': 'Kathmandu',\n",
              " 'Italy': 'Rome',\n",
              " 'England': 'London',\n",
              " 'India': 'New Delhi',\n",
              " 'abc': 'Mumbai',\n",
              " 'Virat': 'kohali'}"
            ]
          },
          "metadata": {},
          "execution_count": 166
        }
      ]
    },
    {
      "cell_type": "code",
      "source": [
        "capital_dict.popitem() #automatic remove last item"
      ],
      "metadata": {
        "colab": {
          "base_uri": "https://localhost:8080/"
        },
        "id": "5V9qbaJz4UDi",
        "outputId": "c151668d-dac7-412c-8317-60d5a905cb3d"
      },
      "execution_count": 167,
      "outputs": [
        {
          "output_type": "execute_result",
          "data": {
            "text/plain": [
              "('Virat', 'kohali')"
            ]
          },
          "metadata": {},
          "execution_count": 167
        }
      ]
    },
    {
      "cell_type": "code",
      "source": [
        "capital_dict"
      ],
      "metadata": {
        "colab": {
          "base_uri": "https://localhost:8080/"
        },
        "id": "eHzory0u4soh",
        "outputId": "8075b680-d4e4-4b26-c63e-cadc0d31ff56"
      },
      "execution_count": 168,
      "outputs": [
        {
          "output_type": "execute_result",
          "data": {
            "text/plain": [
              "{'Nepal': 'Kathmandu',\n",
              " 'Italy': 'Rome',\n",
              " 'England': 'London',\n",
              " 'India': 'New Delhi',\n",
              " 'abc': 'Mumbai'}"
            ]
          },
          "metadata": {},
          "execution_count": 168
        }
      ]
    },
    {
      "cell_type": "code",
      "source": [
        "capital_dict.pop(\"abc\")"
      ],
      "metadata": {
        "colab": {
          "base_uri": "https://localhost:8080/",
          "height": 36
        },
        "id": "MCO7KwFR4vF4",
        "outputId": "87055bc7-4eea-47d3-b830-bd9e82369466"
      },
      "execution_count": 169,
      "outputs": [
        {
          "output_type": "execute_result",
          "data": {
            "text/plain": [
              "'Mumbai'"
            ],
            "application/vnd.google.colaboratory.intrinsic+json": {
              "type": "string"
            }
          },
          "metadata": {},
          "execution_count": 169
        }
      ]
    },
    {
      "cell_type": "code",
      "source": [
        "capital_dict"
      ],
      "metadata": {
        "colab": {
          "base_uri": "https://localhost:8080/"
        },
        "id": "3eEI9xav47uV",
        "outputId": "9409d6c9-2ef4-4c17-f9da-5c11b090e7dd"
      },
      "execution_count": 170,
      "outputs": [
        {
          "output_type": "execute_result",
          "data": {
            "text/plain": [
              "{'Nepal': 'Kathmandu',\n",
              " 'Italy': 'Rome',\n",
              " 'England': 'London',\n",
              " 'India': 'New Delhi'}"
            ]
          },
          "metadata": {},
          "execution_count": 170
        }
      ]
    },
    {
      "cell_type": "code",
      "source": [
        "# Keys can be of different data type\n",
        "mylist=[\"Mango\",\"Orange\",\"Strawberry\",\"Banana\",\"Mulberry\",\"Black berry\"]"
      ],
      "metadata": {
        "id": "KnBPOACJ4-Xk"
      },
      "execution_count": 171,
      "outputs": []
    },
    {
      "cell_type": "code",
      "source": [
        "mytuple=(20,53,45,78,89,65,97)"
      ],
      "metadata": {
        "id": "bOqeDYSp5C4G"
      },
      "execution_count": 172,
      "outputs": []
    },
    {
      "cell_type": "code",
      "source": [
        "mydict={\"A\":mylist,\n",
        "        \"B\":mytuple,\n",
        "        \"C\":capital_dict\n",
        "       }\n",
        "mydict"
      ],
      "metadata": {
        "colab": {
          "base_uri": "https://localhost:8080/"
        },
        "id": "qkCzk2dG5GaG",
        "outputId": "9550f8a2-4d42-4092-d68c-cb50f574d866"
      },
      "execution_count": 173,
      "outputs": [
        {
          "output_type": "execute_result",
          "data": {
            "text/plain": [
              "{'A': ['Mango', 'Orange', 'Strawberry', 'Banana', 'Mulberry', 'Black berry'],\n",
              " 'B': (20, 53, 45, 78, 89, 65, 97),\n",
              " 'C': {'Nepal': 'Kathmandu',\n",
              "  'Italy': 'Rome',\n",
              "  'England': 'London',\n",
              "  'India': 'New Delhi'}}"
            ]
          },
          "metadata": {},
          "execution_count": 173
        }
      ]
    },
    {
      "cell_type": "code",
      "source": [
        "mydict['A']"
      ],
      "metadata": {
        "colab": {
          "base_uri": "https://localhost:8080/"
        },
        "id": "B_cJSWy95Jp-",
        "outputId": "d0318ff2-70c9-4de1-a528-09c97008819f"
      },
      "execution_count": 174,
      "outputs": [
        {
          "output_type": "execute_result",
          "data": {
            "text/plain": [
              "['Mango', 'Orange', 'Strawberry', 'Banana', 'Mulberry', 'Black berry']"
            ]
          },
          "metadata": {},
          "execution_count": 174
        }
      ]
    },
    {
      "cell_type": "code",
      "source": [
        "mydict[\"B\"]"
      ],
      "metadata": {
        "colab": {
          "base_uri": "https://localhost:8080/"
        },
        "id": "ZuWtP5kD5OWH",
        "outputId": "d9f48d63-6416-4b80-dc1d-6b26737034f2"
      },
      "execution_count": 175,
      "outputs": [
        {
          "output_type": "execute_result",
          "data": {
            "text/plain": [
              "(20, 53, 45, 78, 89, 65, 97)"
            ]
          },
          "metadata": {},
          "execution_count": 175
        }
      ]
    },
    {
      "cell_type": "code",
      "source": [
        "mydict[\"C\"]"
      ],
      "metadata": {
        "colab": {
          "base_uri": "https://localhost:8080/"
        },
        "id": "LV2kLmA25QfK",
        "outputId": "c0c1a30c-0038-4c66-b446-a3d11b4951f8"
      },
      "execution_count": 176,
      "outputs": [
        {
          "output_type": "execute_result",
          "data": {
            "text/plain": [
              "{'Nepal': 'Kathmandu',\n",
              " 'Italy': 'Rome',\n",
              " 'England': 'London',\n",
              " 'India': 'New Delhi'}"
            ]
          },
          "metadata": {},
          "execution_count": 176
        }
      ]
    },
    {
      "cell_type": "code",
      "source": [
        "mydict['A'][3] #index 0 1 2 3, 3rd element = banana"
      ],
      "metadata": {
        "colab": {
          "base_uri": "https://localhost:8080/",
          "height": 36
        },
        "id": "Pl_CWAfm5XDm",
        "outputId": "1e76bd9f-4502-4eb6-df11-8a98b0130280"
      },
      "execution_count": 177,
      "outputs": [
        {
          "output_type": "execute_result",
          "data": {
            "text/plain": [
              "'Banana'"
            ],
            "application/vnd.google.colaboratory.intrinsic+json": {
              "type": "string"
            }
          },
          "metadata": {},
          "execution_count": 177
        }
      ]
    },
    {
      "cell_type": "code",
      "source": [
        "mydict['C']['India']"
      ],
      "metadata": {
        "colab": {
          "base_uri": "https://localhost:8080/",
          "height": 36
        },
        "id": "1NLyLpxv5ahs",
        "outputId": "0a7957c1-891b-4777-9bff-111eb5b1e802"
      },
      "execution_count": 178,
      "outputs": [
        {
          "output_type": "execute_result",
          "data": {
            "text/plain": [
              "'New Delhi'"
            ],
            "application/vnd.google.colaboratory.intrinsic+json": {
              "type": "string"
            }
          },
          "metadata": {},
          "execution_count": 178
        }
      ]
    },
    {
      "cell_type": "code",
      "source": [
        "# Math functions: can import specific functions or all using *\n",
        "sqrt(25) # raise error as you have not imported"
      ],
      "metadata": {
        "colab": {
          "base_uri": "https://localhost:8080/",
          "height": 182
        },
        "id": "k0Iv_-F-5dqp",
        "outputId": "6aa740e6-8a8b-43d8-ad55-b22a0774d903"
      },
      "execution_count": 179,
      "outputs": [
        {
          "output_type": "error",
          "ename": "NameError",
          "evalue": "ignored",
          "traceback": [
            "\u001b[0;31m---------------------------------------------------------------------------\u001b[0m",
            "\u001b[0;31mNameError\u001b[0m                                 Traceback (most recent call last)",
            "\u001b[0;32m<ipython-input-179-8faec0ab57b9>\u001b[0m in \u001b[0;36m<cell line: 2>\u001b[0;34m()\u001b[0m\n\u001b[1;32m      1\u001b[0m \u001b[0;31m# Math functions: can import specific functions or all using *\u001b[0m\u001b[0;34m\u001b[0m\u001b[0;34m\u001b[0m\u001b[0m\n\u001b[0;32m----> 2\u001b[0;31m \u001b[0msqrt\u001b[0m\u001b[0;34m(\u001b[0m\u001b[0;36m25\u001b[0m\u001b[0;34m)\u001b[0m \u001b[0;31m# raise error as you have not imported\u001b[0m\u001b[0;34m\u001b[0m\u001b[0;34m\u001b[0m\u001b[0m\n\u001b[0m",
            "\u001b[0;31mNameError\u001b[0m: name 'sqrt' is not defined"
          ]
        }
      ]
    },
    {
      "cell_type": "code",
      "source": [
        "from math import sqrt\n",
        "sqrt(25)"
      ],
      "metadata": {
        "colab": {
          "base_uri": "https://localhost:8080/"
        },
        "id": "DFW0QEXM5kDp",
        "outputId": "f8adfe10-fb93-4e72-8bbd-e2f549c9b4de"
      },
      "execution_count": 180,
      "outputs": [
        {
          "output_type": "execute_result",
          "data": {
            "text/plain": [
              "5.0"
            ]
          },
          "metadata": {},
          "execution_count": 180
        }
      ]
    },
    {
      "cell_type": "code",
      "source": [
        "from math import factorial"
      ],
      "metadata": {
        "id": "bZycGt-E5oAP"
      },
      "execution_count": 182,
      "outputs": []
    },
    {
      "cell_type": "code",
      "source": [
        "factorial(9)"
      ],
      "metadata": {
        "colab": {
          "base_uri": "https://localhost:8080/"
        },
        "id": "04LetpvP60d5",
        "outputId": "cb9485c1-9ad7-49ed-8df6-81bff7d5b66a"
      },
      "execution_count": 183,
      "outputs": [
        {
          "output_type": "execute_result",
          "data": {
            "text/plain": [
              "362880"
            ]
          },
          "metadata": {},
          "execution_count": 183
        }
      ]
    },
    {
      "cell_type": "code",
      "source": [
        "sin(90)"
      ],
      "metadata": {
        "id": "fQYYKjHJ6859"
      },
      "execution_count": null,
      "outputs": []
    },
    {
      "cell_type": "code",
      "source": [
        "from math import sin,cos,tan"
      ],
      "metadata": {
        "id": "hA8DYaPx7AdE"
      },
      "execution_count": 185,
      "outputs": []
    },
    {
      "cell_type": "code",
      "source": [
        "sin(90)"
      ],
      "metadata": {
        "colab": {
          "base_uri": "https://localhost:8080/"
        },
        "id": "jg0KhF4r7EiK",
        "outputId": "09189c59-43cc-45be-fb8b-6bbfa3bb973a"
      },
      "execution_count": 187,
      "outputs": [
        {
          "output_type": "execute_result",
          "data": {
            "text/plain": [
              "0.8939966636005579"
            ]
          },
          "metadata": {},
          "execution_count": 187
        }
      ]
    },
    {
      "cell_type": "code",
      "source": [
        "tan(45)"
      ],
      "metadata": {
        "colab": {
          "base_uri": "https://localhost:8080/"
        },
        "id": "JeysEoFF7Mbf",
        "outputId": "e3490b28-794e-4101-8ff1-0f13e86e2f12"
      },
      "execution_count": 188,
      "outputs": [
        {
          "output_type": "execute_result",
          "data": {
            "text/plain": [
              "1.6197751905438615"
            ]
          },
          "metadata": {},
          "execution_count": 188
        }
      ]
    },
    {
      "cell_type": "code",
      "source": [
        "from math import *\n",
        "l2=[5,2,3]\n",
        "prod(l2)"
      ],
      "metadata": {
        "colab": {
          "base_uri": "https://localhost:8080/"
        },
        "id": "bHWVm3rN7IVh",
        "outputId": "fa5171b5-0c1c-4c84-8240-1c4049a21df0"
      },
      "execution_count": 189,
      "outputs": [
        {
          "output_type": "execute_result",
          "data": {
            "text/plain": [
              "30"
            ]
          },
          "metadata": {},
          "execution_count": 189
        }
      ]
    },
    {
      "cell_type": "code",
      "source": [
        "# OR you can say 'import math'\n",
        "# But while calling any function you have to use math.Function_Name()\n",
        "# The math.prod() method returns the product of the elements from the given iterable.\n",
        "import math # or 'import math as mt', mt.sqrt(64 )\n",
        "sequence = (2, 2,5,6) # iterable where elements are given\n",
        "print(math.prod(sequence))\n"
      ],
      "metadata": {
        "colab": {
          "base_uri": "https://localhost:8080/"
        },
        "id": "XmRcxnyp7WNR",
        "outputId": "542ace99-1be7-48fd-f5fb-0ac0cfe4dcb3"
      },
      "execution_count": 190,
      "outputs": [
        {
          "output_type": "stream",
          "name": "stdout",
          "text": [
            "120\n"
          ]
        }
      ]
    },
    {
      "cell_type": "code",
      "source": [
        "import math\n",
        "l1=[2,3,4]\n",
        "math.prod(l1)"
      ],
      "metadata": {
        "colab": {
          "base_uri": "https://localhost:8080/"
        },
        "id": "IRAZRpvF7jKn",
        "outputId": "802df903-1feb-49ce-ee3a-f0e488bcb703"
      },
      "execution_count": 191,
      "outputs": [
        {
          "output_type": "execute_result",
          "data": {
            "text/plain": [
              "24"
            ]
          },
          "metadata": {},
          "execution_count": 191
        }
      ]
    },
    {
      "cell_type": "code",
      "source": [
        "dir(math) # all functions of math library"
      ],
      "metadata": {
        "colab": {
          "base_uri": "https://localhost:8080/"
        },
        "id": "LRBa08FY7nx_",
        "outputId": "d80c2c2a-146b-42ef-e3ab-aa60cff0d1de"
      },
      "execution_count": 192,
      "outputs": [
        {
          "output_type": "execute_result",
          "data": {
            "text/plain": [
              "['__doc__',\n",
              " '__loader__',\n",
              " '__name__',\n",
              " '__package__',\n",
              " '__spec__',\n",
              " 'acos',\n",
              " 'acosh',\n",
              " 'asin',\n",
              " 'asinh',\n",
              " 'atan',\n",
              " 'atan2',\n",
              " 'atanh',\n",
              " 'ceil',\n",
              " 'comb',\n",
              " 'copysign',\n",
              " 'cos',\n",
              " 'cosh',\n",
              " 'degrees',\n",
              " 'dist',\n",
              " 'e',\n",
              " 'erf',\n",
              " 'erfc',\n",
              " 'exp',\n",
              " 'expm1',\n",
              " 'fabs',\n",
              " 'factorial',\n",
              " 'floor',\n",
              " 'fmod',\n",
              " 'frexp',\n",
              " 'fsum',\n",
              " 'gamma',\n",
              " 'gcd',\n",
              " 'hypot',\n",
              " 'inf',\n",
              " 'isclose',\n",
              " 'isfinite',\n",
              " 'isinf',\n",
              " 'isnan',\n",
              " 'isqrt',\n",
              " 'lcm',\n",
              " 'ldexp',\n",
              " 'lgamma',\n",
              " 'log',\n",
              " 'log10',\n",
              " 'log1p',\n",
              " 'log2',\n",
              " 'modf',\n",
              " 'nan',\n",
              " 'nextafter',\n",
              " 'perm',\n",
              " 'pi',\n",
              " 'pow',\n",
              " 'prod',\n",
              " 'radians',\n",
              " 'remainder',\n",
              " 'sin',\n",
              " 'sinh',\n",
              " 'sqrt',\n",
              " 'tan',\n",
              " 'tanh',\n",
              " 'tau',\n",
              " 'trunc',\n",
              " 'ulp']"
            ]
          },
          "metadata": {},
          "execution_count": 192
        }
      ]
    },
    {
      "cell_type": "code",
      "source": [],
      "metadata": {
        "id": "VLt0aD9j7rBk"
      },
      "execution_count": null,
      "outputs": []
    }
  ]
}